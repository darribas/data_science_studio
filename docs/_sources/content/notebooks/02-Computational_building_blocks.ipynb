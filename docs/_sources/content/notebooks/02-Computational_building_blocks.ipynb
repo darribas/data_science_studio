{
 "cells": [
  {
   "cell_type": "markdown",
   "metadata": {},
   "source": [
    "# Computational building blocks\n",
    "\n",
    "{ref}`💻 [Async] <delivery_modes>`\n",
    "\n",
    "## Background\n",
    "\n",
    "Data Science is as much a process as it is an outcome. And *how* that process gets done matters. In this section, we cover the main practices and tools on top of which this course is built.\n",
    "\n",
    "There are three sets of materials you are expected to go over to complete this section:\n",
    "\n",
    "```{margin}\n",
    "The chapter can be read online [here](https://geographicdata.science/book/notebooks/01_geospatial_computational_environment.html)\n",
    "```\n",
    "1. 📖 `[Read]` *\"Geospatial Computational Environment\"*, Chapter 2 of the upcoming book by {cite}`reyABwolf`.\n",
    "1. 📺 `[Watch]` Go over the three videos in Block B of the GDS course ([`[URL]`](https://darribas.org/gds_course/content/bA/lab_A.html)), covering an overview of the main tools we will use in the course.\n",
    "\n",
    "## Software stack\n",
    "\n",
    "```{attention}\n",
    "Before you move on to the next section, make sure you have all the software stack installed, up and running on your computer so you can follow on the rest of the course interactively\n",
    "```\n",
    "\n",
    "Let's install everything you will need to successfully complete this course! To do so, please follow the appropriate guide for your case from those offered at:\n",
    "\n",
    "> [https://gdsl-ul.github.io/soft_install/](https://gdsl-ul.github.io/soft_install/)\n",
    "\n",
    "They will all help you install the same software, but they vary based on the operating system you are running (Windows/macOS/Linux).\n"
   ]
  }
 ],
 "metadata": {
  "kernelspec": {
   "display_name": "Python 3",
   "language": "python",
   "name": "python3"
  },
  "language_info": {
   "codemirror_mode": {
    "name": "ipython",
    "version": 3
   },
   "file_extension": ".py",
   "mimetype": "text/x-python",
   "name": "python",
   "nbconvert_exporter": "python",
   "pygments_lexer": "ipython3",
   "version": "3.8.6"
  }
 },
 "nbformat": 4,
 "nbformat_minor": 4
}
