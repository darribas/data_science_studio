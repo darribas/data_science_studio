{
 "cells": [
  {
   "cell_type": "markdown",
   "metadata": {},
   "source": [
    "# Data Preparation"
   ]
  },
  {
   "cell_type": "code",
   "execution_count": 1,
   "metadata": {},
   "outputs": [],
   "source": [
    "%matplotlib inline\n",
    "\n",
    "import pandas\n",
    "from sqlalchemy import create_engine"
   ]
  },
  {
   "cell_type": "markdown",
   "metadata": {},
   "source": [
    "## Download the data"
   ]
  },
  {
   "cell_type": "code",
   "execution_count": 2,
   "metadata": {},
   "outputs": [
    {
     "name": "stderr",
     "output_type": "stream",
     "text": [
      "<string>:2: DtypeWarning: Columns (43,61,62) have mixed types. Specify dtype option on import or set low_memory=False.\n"
     ]
    },
    {
     "name": "stdout",
     "output_type": "stream",
     "text": [
      "CPU times: user 9.02 s, sys: 4.61 s, total: 13.6 s\n",
      "Wall time: 2min 22s\n"
     ]
    }
   ],
   "source": [
    "url = (\"http://data.insideairbnb.com/france/ile-de-france/paris\"\n",
    "       \"/2019-09-16/data/listings.csv.gz\")\n",
    "%time db = pandas.read_csv(url)"
   ]
  },
  {
   "cell_type": "code",
   "execution_count": 3,
   "metadata": {},
   "outputs": [],
   "source": [
    "tokeep = [\n",
    "    \"id\", \n",
    "    \"neighbourhood_cleansed\",\n",
    "    \"property_type\",\n",
    "    \"room_type\",\n",
    "    \"accommodates\",\n",
    "    \"bathrooms\",\n",
    "    \"bedrooms\",\n",
    "    \"beds\",\n",
    "    \"bed_type\"\n",
    "    ]\n",
    "review = [i for i in db.columns if \"review_scores\" in i]"
   ]
  },
  {
   "cell_type": "markdown",
   "metadata": {},
   "source": [
    "## Build numeric price"
   ]
  },
  {
   "cell_type": "code",
   "execution_count": 4,
   "metadata": {},
   "outputs": [],
   "source": [
    "cleaner = lambda p: float(p.replace(\",\", \"\").strip(\"$\"))\n",
    "db[\"Price\"] = db[\"price\"].apply(cleaner)"
   ]
  },
  {
   "cell_type": "markdown",
   "metadata": {},
   "source": [
    "## Keep relevant variables"
   ]
  },
  {
   "cell_type": "code",
   "execution_count": 5,
   "metadata": {},
   "outputs": [],
   "source": [
    "final = db[tokeep + review + [\"Price\"]].dropna()"
   ]
  },
  {
   "cell_type": "markdown",
   "metadata": {},
   "source": [
    "## Write out"
   ]
  },
  {
   "cell_type": "markdown",
   "metadata": {},
   "source": [
    "* As `.csv`"
   ]
  },
  {
   "cell_type": "code",
   "execution_count": 6,
   "metadata": {},
   "outputs": [],
   "source": [
    "! rm -f /paris_abb.csv.zip\n",
    "final[tokeep + [\"Price\"]].to_csv(\"paris_abb.csv.zip\",\n",
    "                                 index=False)"
   ]
  },
  {
   "cell_type": "markdown",
   "metadata": {},
   "source": [
    "* As `.sqlite`"
   ]
  },
  {
   "cell_type": "code",
   "execution_count": 7,
   "metadata": {},
   "outputs": [],
   "source": [
    "! rm -f /paris_abb_mini.db\n",
    "engine = create_engine(\"sqlite:///paris_abb_mini.db\")"
   ]
  },
  {
   "cell_type": "code",
   "execution_count": 8,
   "metadata": {},
   "outputs": [],
   "source": [
    "final[tokeep + [\"Price\"]].to_sql(\"db\", engine, index=False)"
   ]
  },
  {
   "cell_type": "markdown",
   "metadata": {},
   "source": [
    "Index on `neighbourhood_cleansed`"
   ]
  },
  {
   "cell_type": "code",
   "execution_count": 9,
   "metadata": {},
   "outputs": [
    {
     "data": {
      "text/plain": [
       "<sqlalchemy.engine.result.ResultProxy at 0x7fb1c2f75fd0>"
      ]
     },
     "execution_count": 9,
     "metadata": {},
     "output_type": "execute_result"
    }
   ],
   "source": [
    "qry = \"\"\"\n",
    "CREATE INDEX idx_neighbourhood_cleansed\n",
    "ON db (neighbourhood_cleansed);\n",
    "\"\"\"\n",
    "conn = engine.connect()\n",
    "conn.execute(qry)"
   ]
  },
  {
   "cell_type": "code",
   "execution_count": 10,
   "metadata": {},
   "outputs": [
    {
     "name": "stdout",
     "output_type": "stream",
     "text": [
      "CREATE TABLE db (\n",
      "\tid BIGINT, \n",
      "\tneighbourhood_cleansed TEXT, \n",
      "\tproperty_type TEXT, \n",
      "\troom_type TEXT, \n",
      "\taccommodates BIGINT, \n",
      "\tbathrooms FLOAT, \n",
      "\tbedrooms FLOAT, \n",
      "\tbeds FLOAT, \n",
      "\tbed_type TEXT, \n",
      "\t\"Price\" FLOAT\n",
      ")\n",
      "CREATE INDEX idx_neighbourhood_cleansed\n",
      "ON db (neighbourhood_cleansed)\n"
     ]
    }
   ],
   "source": [
    "out = conn.execute(\"select * from SQLite_master\")\n",
    "\n",
    "for table in out.fetchall():\n",
    "    print(table[4])"
   ]
  },
  {
   "cell_type": "code",
   "execution_count": 11,
   "metadata": {},
   "outputs": [],
   "source": [
    "conn.close()\n",
    "engine.dispose()"
   ]
  },
  {
   "cell_type": "markdown",
   "metadata": {},
   "source": [
    "* Full table dump on sqlite (optional, final file was eventually removed from the pack as 270MB)"
   ]
  },
  {
   "cell_type": "code",
   "execution_count": 12,
   "metadata": {},
   "outputs": [],
   "source": [
    "! rm -f paris_abb.db\n",
    "engine = create_engine(\"sqlite:///paris_abb.db\")"
   ]
  },
  {
   "cell_type": "code",
   "execution_count": 13,
   "metadata": {},
   "outputs": [],
   "source": [
    "db.rename(columns={\"Price\": \"price_val\"})\\\n",
    "  .to_sql(\"db\", engine, index=False)"
   ]
  },
  {
   "cell_type": "markdown",
   "metadata": {},
   "source": [
    "Index on `neighbourhood_cleansed`"
   ]
  },
  {
   "cell_type": "code",
   "execution_count": 14,
   "metadata": {},
   "outputs": [
    {
     "data": {
      "text/plain": [
       "<sqlalchemy.engine.result.ResultProxy at 0x7fb1aa334860>"
      ]
     },
     "execution_count": 14,
     "metadata": {},
     "output_type": "execute_result"
    }
   ],
   "source": [
    "qry = \"\"\"\n",
    "CREATE INDEX idx_neighbourhood_cleansed\n",
    "ON db (neighbourhood_cleansed);\n",
    "\"\"\"\n",
    "conn = engine.connect()\n",
    "conn.execute(qry)"
   ]
  },
  {
   "cell_type": "code",
   "execution_count": 15,
   "metadata": {},
   "outputs": [
    {
     "name": "stdout",
     "output_type": "stream",
     "text": [
      "CREATE TABLE db (\n",
      "\tid BIGINT, \n",
      "\tlisting_url TEXT, \n",
      "\tscrape_id BIGINT, \n",
      "\tlast_scraped TEXT, \n",
      "\tname TEXT, \n",
      "\tsummary TEXT, \n",
      "\tspace TEXT, \n",
      "\tdescription TEXT, \n",
      "\texperiences_offered TEXT, \n",
      "\tneighborhood_overview TEXT, \n",
      "\tnotes TEXT, \n",
      "\ttransit TEXT, \n",
      "\taccess TEXT, \n",
      "\tinteraction TEXT, \n",
      "\thouse_rules TEXT, \n",
      "\tthumbnail_url FLOAT, \n",
      "\tmedium_url FLOAT, \n",
      "\tpicture_url TEXT, \n",
      "\txl_picture_url FLOAT, \n",
      "\thost_id BIGINT, \n",
      "\thost_url TEXT, \n",
      "\thost_name TEXT, \n",
      "\thost_since TEXT, \n",
      "\thost_location TEXT, \n",
      "\thost_about TEXT, \n",
      "\thost_response_time TEXT, \n",
      "\thost_response_rate TEXT, \n",
      "\thost_acceptance_rate FLOAT, \n",
      "\thost_is_superhost TEXT, \n",
      "\thost_thumbnail_url TEXT, \n",
      "\thost_picture_url TEXT, \n",
      "\thost_neighbourhood TEXT, \n",
      "\thost_listings_count FLOAT, \n",
      "\thost_total_listings_count FLOAT, \n",
      "\thost_verifications TEXT, \n",
      "\thost_has_profile_pic TEXT, \n",
      "\thost_identity_verified TEXT, \n",
      "\tstreet TEXT, \n",
      "\tneighbourhood TEXT, \n",
      "\tneighbourhood_cleansed TEXT, \n",
      "\tneighbourhood_group_cleansed FLOAT, \n",
      "\tcity TEXT, \n",
      "\tstate TEXT, \n",
      "\tzipcode TEXT, \n",
      "\tmarket TEXT, \n",
      "\tsmart_location TEXT, \n",
      "\tcountry_code TEXT, \n",
      "\tcountry TEXT, \n",
      "\tlatitude FLOAT, \n",
      "\tlongitude FLOAT, \n",
      "\tis_location_exact TEXT, \n",
      "\tproperty_type TEXT, \n",
      "\troom_type TEXT, \n",
      "\taccommodates BIGINT, \n",
      "\tbathrooms FLOAT, \n",
      "\tbedrooms FLOAT, \n",
      "\tbeds FLOAT, \n",
      "\tbed_type TEXT, \n",
      "\tamenities TEXT, \n",
      "\tsquare_feet FLOAT, \n",
      "\tprice TEXT, \n",
      "\tweekly_price TEXT, \n",
      "\tmonthly_price TEXT, \n",
      "\tsecurity_deposit TEXT, \n",
      "\tcleaning_fee TEXT, \n",
      "\tguests_included BIGINT, \n",
      "\textra_people TEXT, \n",
      "\tminimum_nights BIGINT, \n",
      "\tmaximum_nights BIGINT, \n",
      "\tminimum_minimum_nights BIGINT, \n",
      "\tmaximum_minimum_nights BIGINT, \n",
      "\tminimum_maximum_nights BIGINT, \n",
      "\tmaximum_maximum_nights BIGINT, \n",
      "\tminimum_nights_avg_ntm FLOAT, \n",
      "\tmaximum_nights_avg_ntm FLOAT, \n",
      "\tcalendar_updated TEXT, \n",
      "\thas_availability TEXT, \n",
      "\tavailability_30 BIGINT, \n",
      "\tavailability_60 BIGINT, \n",
      "\tavailability_90 BIGINT, \n",
      "\tavailability_365 BIGINT, \n",
      "\tcalendar_last_scraped TEXT, \n",
      "\tnumber_of_reviews BIGINT, \n",
      "\tnumber_of_reviews_ltm BIGINT, \n",
      "\tfirst_review TEXT, \n",
      "\tlast_review TEXT, \n",
      "\treview_scores_rating FLOAT, \n",
      "\treview_scores_accuracy FLOAT, \n",
      "\treview_scores_cleanliness FLOAT, \n",
      "\treview_scores_checkin FLOAT, \n",
      "\treview_scores_communication FLOAT, \n",
      "\treview_scores_location FLOAT, \n",
      "\treview_scores_value FLOAT, \n",
      "\trequires_license TEXT, \n",
      "\tlicense TEXT, \n",
      "\tjurisdiction_names TEXT, \n",
      "\tinstant_bookable TEXT, \n",
      "\tis_business_travel_ready TEXT, \n",
      "\tcancellation_policy TEXT, \n",
      "\trequire_guest_profile_picture TEXT, \n",
      "\trequire_guest_phone_verification TEXT, \n",
      "\tcalculated_host_listings_count BIGINT, \n",
      "\tcalculated_host_listings_count_entire_homes BIGINT, \n",
      "\tcalculated_host_listings_count_private_rooms BIGINT, \n",
      "\tcalculated_host_listings_count_shared_rooms BIGINT, \n",
      "\treviews_per_month FLOAT, \n",
      "\tprice_val FLOAT\n",
      ")\n",
      "CREATE INDEX idx_neighbourhood_cleansed\n",
      "ON db (neighbourhood_cleansed)\n"
     ]
    }
   ],
   "source": [
    "out = conn.execute(\"select * from SQLite_master\")\n",
    "\n",
    "for table in out.fetchall():\n",
    "    print(table[4])"
   ]
  },
  {
   "cell_type": "code",
   "execution_count": 16,
   "metadata": {},
   "outputs": [],
   "source": [
    "conn.close()\n",
    "engine.dispose()"
   ]
  },
  {
   "cell_type": "markdown",
   "metadata": {},
   "source": [
    "* Review scores"
   ]
  },
  {
   "cell_type": "code",
   "execution_count": 17,
   "metadata": {},
   "outputs": [],
   "source": [
    "! rm -f paris_abb_review.csv.zip\n",
    "final[[\"id\"] + review].to_csv(\"paris_abb_review.csv.zip\",\n",
    "                              index=False)"
   ]
  }
 ],
 "metadata": {
  "kernelspec": {
   "display_name": "Python 3",
   "language": "python",
   "name": "python3"
  },
  "language_info": {
   "codemirror_mode": {
    "name": "ipython",
    "version": 3
   },
   "file_extension": ".py",
   "mimetype": "text/x-python",
   "name": "python",
   "nbconvert_exporter": "python",
   "pygments_lexer": "ipython3",
   "version": "3.8.6"
  }
 },
 "nbformat": 4,
 "nbformat_minor": 4
}
