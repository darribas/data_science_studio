{
 "cells": [
  {
   "cell_type": "markdown",
   "metadata": {},
   "source": [
    "# Data studio"
   ]
  },
  {
   "cell_type": "markdown",
   "metadata": {},
   "source": [
    "(assignment_brief)=\n",
    "## Assignment brief\n",
    "\n",
    "{ref}`💻 [Async] <delivery_modes>`\n",
    "\n",
    "Once you have covered all the content in the course, you are in a better position to start thinking about the course assignment. Now it's a good time to revisit the [official description](../assessment) (many terms in there will probably make more sense now), start thinking about what you would want to do, and collect questions you can bring to the live session with the instructor."
   ]
  },
  {
   "cell_type": "markdown",
   "metadata": {},
   "source": [
    "(studio_time)=\n",
    "## Studio time\n",
    "\n",
    "{ref}`👨‍🏫 [Sync] <delivery_modes>`\n",
    "\n",
    "This is the time for you to start working on your assignment while still having a chance to talk to the instructor and get direct, one-on-one support. Start designing an awesome computational essay, think about what data you might need, try to get a hold of them, and get cracking!"
   ]
  }
 ],
 "metadata": {
  "kernelspec": {
   "display_name": "Python 3",
   "language": "python",
   "name": "python3"
  },
  "language_info": {
   "codemirror_mode": {
    "name": "ipython",
    "version": 3
   },
   "file_extension": ".py",
   "mimetype": "text/x-python",
   "name": "python",
   "nbconvert_exporter": "python",
   "pygments_lexer": "ipython3",
   "version": "3.8.6"
  }
 },
 "nbformat": 4,
 "nbformat_minor": 4
}
