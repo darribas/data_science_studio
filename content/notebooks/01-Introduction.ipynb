{
 "cells": [
  {
   "cell_type": "code",
   "execution_count": 1,
   "metadata": {
    "tags": [
     "remove-cell"
    ]
   },
   "outputs": [],
   "source": [
    "from IPython.display import IFrame"
   ]
  },
  {
   "cell_type": "markdown",
   "metadata": {},
   "source": [
    "# \"Data, data, data\"\n",
    "\n",
    "{ref}`💻 [Async] <delivery_modes>`\n",
    "\n",
    "We kick off the course with an overview of what Data Science, as a discipline, is. There are two tasks for you to do ahead of class:\n",
    "\n",
    "- Watch the following introductory clip:"
   ]
  },
  {
   "cell_type": "markdown",
   "metadata": {},
   "source": [
    "\n",
    "```{sidebar} Slides\n",
    "\n",
    "The slides used in the clip are available at:\n",
    "\n",
    "- <a href=\"../slides/01-Introduction.html\"> `[HTML]` </a>\n",
    "- <a href=\"../slides/01-Introduction.pdf\"> `[PDF]` </a>\n",
    "\n",
    "```"
   ]
  },
  {
   "cell_type": "code",
   "execution_count": 2,
   "metadata": {
    "tags": [
     "remove-input"
    ]
   },
   "outputs": [
    {
     "data": {
      "text/html": [
       "\n",
       "        <iframe\n",
       "            width=\"500\"\n",
       "            height=\"300\"\n",
       "            src=\"https://liverpool.instructuremedia.com/embed/45750aa3-f777-4431-8752-019f9f431eb7\"\n",
       "            frameborder=\"0\"\n",
       "            allowfullscreen\n",
       "        ></iframe>\n",
       "        "
      ],
      "text/plain": [
       "<IPython.lib.display.IFrame at 0x7f2f89709810>"
      ]
     },
     "execution_count": 2,
     "metadata": {},
     "output_type": "execute_result"
    }
   ],
   "source": [
    "IFrame(\"https://liverpool.instructuremedia.com/embed/45750aa3-f777-4431-8752-019f9f431eb7\",\n",
    "       width=500,\n",
    "       height=300\n",
    "      )"
   ]
  },
  {
   "cell_type": "markdown",
   "metadata": {},
   "source": [
    "Although not required, the clip mentions Lazer & Radford (2017) {cite}`lazer14032014` which, although not fully required for this course, is well worth your time if you are interested in new forms of data in the Social Sciences.\n",
    "\n",
    "```{margin}\n",
    "The paper, published under an Open Access license, is available [here](https://www.tandfonline.com/doi/full/10.1080/10618600.2017.1384734)\n",
    "```\n",
    "\n",
    "- Read *\"50 Years of Data Science\"*, by David Donoho {cite}`donoho201750`.\n",
    "\n",
    "Once you have read Donoho {cite}`donoho201750`, the following table below will show you how the {ref}`outline of this course <schedule>` can be mapped to his \"Greater Data Science\" goals:\n",
    "\n",
    "```{sidebar} Donoho's Greater Data Science\n",
    "\n",
    "1. Data Gathering, Preparation, and Exploration\n",
    "1. Data Representation and Transformation\n",
    "1. Computing with Data\n",
    "1. Data Visualisation and Presentation\n",
    "1. Data Modeling\n",
    "1. Science about Data Science\n",
    "\n",
    "```\n",
    "\n",
    "\n",
    "| Course Blocks | Goal |\n",
    "| :--- | :--- |\n",
    "| [Computational building blocks](02-Computational_building_blocks) | `GDS3` |\n",
    "| Data Manipulation ([Intro](03-Tabular_data) + [Advanced](05-Tabular_advanced)) | `GDS1`  + `GDS2` |\n",
    "| [Exploring data visually](04-Tabular_data_viz) | `GDS4` |\n",
    "| [Unsupervised learning](06-Unsupervised_learning) | `GDS5` |\n",
    "| [Supervised learning ([Overview](07-Supervised_learning) + [Inference](08-Inference) + [Cross-Validation](09-Overfitting_cv)) | `GDS5` |"
   ]
  }
 ],
 "metadata": {
  "kernelspec": {
   "display_name": "Python 3",
   "language": "python",
   "name": "python3"
  },
  "language_info": {
   "codemirror_mode": {
    "name": "ipython",
    "version": 3
   },
   "file_extension": ".py",
   "mimetype": "text/x-python",
   "name": "python",
   "nbconvert_exporter": "python",
   "pygments_lexer": "ipython3",
   "version": "3.8.6"
  }
 },
 "nbformat": 4,
 "nbformat_minor": 4
}
