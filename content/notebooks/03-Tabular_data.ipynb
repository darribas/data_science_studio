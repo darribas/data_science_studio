{
 "cells": [
  {
   "cell_type": "markdown",
   "metadata": {},
   "source": [
    "# Reading & Manipulating Tabular Data\n",
    "\n",
    "{ref}`👨‍🏫 [Sync] <delivery_modes>`"
   ]
  },
  {
   "cell_type": "code",
   "execution_count": 1,
   "metadata": {},
   "outputs": [],
   "source": [
    "import pandas\n",
    "import numpy as np\n",
    "from sqlalchemy import create_engine"
   ]
  },
  {
   "cell_type": "markdown",
   "metadata": {},
   "source": [
    "To note:\n",
    "- `matplotlib` magic\n",
    "- Library import and alias"
   ]
  },
  {
   "cell_type": "markdown",
   "metadata": {},
   "source": [
    "## Data"
   ]
  },
  {
   "cell_type": "markdown",
   "metadata": {},
   "source": [
    "* Read in `.csv`"
   ]
  },
  {
   "cell_type": "markdown",
   "metadata": {},
   "source": [
    "````{tabbed} Local files\n",
    "\n",
    "Assuming you have [the file](https://github.com/darribas/data_science_studio/raw/master/content/data/paris_abb.csv.zip) downloaded on the path `../data/`: \n",
    "\n",
    "```python\n",
    "db = pandas.read_csv(\"../data/paris_abb.csv.zip\")\n",
    "```\n",
    "````\n",
    "\n",
    "````{tabbed} Online read\n",
    "\n",
    "If you're online, you can do:\n",
    "\n",
    "```python\n",
    "db = pandas.read_csv(\"https://github.com/darribas/data_science_studio/raw/master/content/data/paris_abb.csv.zip\")\n",
    "```\n",
    "````"
   ]
  },
  {
   "cell_type": "code",
   "execution_count": 2,
   "metadata": {
    "tags": [
     "remove-cell"
    ]
   },
   "outputs": [],
   "source": [
    "db = pandas.read_csv(\"../data/paris_abb.csv.zip\")"
   ]
  },
  {
   "cell_type": "markdown",
   "metadata": {},
   "source": [
    "* Connect to `SQLite` and query"
   ]
  },
  {
   "cell_type": "code",
   "execution_count": 3,
   "metadata": {},
   "outputs": [],
   "source": [
    "engine = create_engine(\"sqlite:///../data/paris_abb_mini.db\")"
   ]
  },
  {
   "cell_type": "code",
   "execution_count": 4,
   "metadata": {},
   "outputs": [
    {
     "data": {
      "text/html": [
       "<div>\n",
       "<style scoped>\n",
       "    .dataframe tbody tr th:only-of-type {\n",
       "        vertical-align: middle;\n",
       "    }\n",
       "\n",
       "    .dataframe tbody tr th {\n",
       "        vertical-align: top;\n",
       "    }\n",
       "\n",
       "    .dataframe thead th {\n",
       "        text-align: right;\n",
       "    }\n",
       "</style>\n",
       "<table border=\"1\" class=\"dataframe\">\n",
       "  <thead>\n",
       "    <tr style=\"text-align: right;\">\n",
       "      <th></th>\n",
       "      <th>id</th>\n",
       "      <th>neighbourhood_cleansed</th>\n",
       "      <th>property_type</th>\n",
       "      <th>room_type</th>\n",
       "      <th>accommodates</th>\n",
       "      <th>bathrooms</th>\n",
       "      <th>bedrooms</th>\n",
       "      <th>beds</th>\n",
       "      <th>bed_type</th>\n",
       "      <th>Price</th>\n",
       "    </tr>\n",
       "  </thead>\n",
       "  <tbody>\n",
       "    <tr>\n",
       "      <th>0</th>\n",
       "      <td>3109</td>\n",
       "      <td>Observatoire</td>\n",
       "      <td>Apartment</td>\n",
       "      <td>Entire home/apt</td>\n",
       "      <td>2</td>\n",
       "      <td>1.0</td>\n",
       "      <td>0.0</td>\n",
       "      <td>1.0</td>\n",
       "      <td>Real Bed</td>\n",
       "      <td>60.0</td>\n",
       "    </tr>\n",
       "    <tr>\n",
       "      <th>1</th>\n",
       "      <td>5396</td>\n",
       "      <td>Hôtel-de-Ville</td>\n",
       "      <td>Apartment</td>\n",
       "      <td>Entire home/apt</td>\n",
       "      <td>2</td>\n",
       "      <td>1.0</td>\n",
       "      <td>0.0</td>\n",
       "      <td>1.0</td>\n",
       "      <td>Pull-out Sofa</td>\n",
       "      <td>115.0</td>\n",
       "    </tr>\n",
       "    <tr>\n",
       "      <th>2</th>\n",
       "      <td>7397</td>\n",
       "      <td>Hôtel-de-Ville</td>\n",
       "      <td>Apartment</td>\n",
       "      <td>Entire home/apt</td>\n",
       "      <td>4</td>\n",
       "      <td>1.0</td>\n",
       "      <td>2.0</td>\n",
       "      <td>2.0</td>\n",
       "      <td>Real Bed</td>\n",
       "      <td>119.0</td>\n",
       "    </tr>\n",
       "    <tr>\n",
       "      <th>3</th>\n",
       "      <td>7964</td>\n",
       "      <td>Opéra</td>\n",
       "      <td>Apartment</td>\n",
       "      <td>Entire home/apt</td>\n",
       "      <td>2</td>\n",
       "      <td>1.0</td>\n",
       "      <td>1.0</td>\n",
       "      <td>1.0</td>\n",
       "      <td>Real Bed</td>\n",
       "      <td>130.0</td>\n",
       "    </tr>\n",
       "    <tr>\n",
       "      <th>4</th>\n",
       "      <td>9952</td>\n",
       "      <td>Popincourt</td>\n",
       "      <td>Apartment</td>\n",
       "      <td>Entire home/apt</td>\n",
       "      <td>2</td>\n",
       "      <td>1.0</td>\n",
       "      <td>1.0</td>\n",
       "      <td>1.0</td>\n",
       "      <td>Real Bed</td>\n",
       "      <td>75.0</td>\n",
       "    </tr>\n",
       "  </tbody>\n",
       "</table>\n",
       "</div>"
      ],
      "text/plain": [
       "     id neighbourhood_cleansed property_type        room_type  accommodates  \\\n",
       "0  3109           Observatoire     Apartment  Entire home/apt             2   \n",
       "1  5396         Hôtel-de-Ville     Apartment  Entire home/apt             2   \n",
       "2  7397         Hôtel-de-Ville     Apartment  Entire home/apt             4   \n",
       "3  7964                  Opéra     Apartment  Entire home/apt             2   \n",
       "4  9952             Popincourt     Apartment  Entire home/apt             2   \n",
       "\n",
       "   bathrooms  bedrooms  beds       bed_type  Price  \n",
       "0        1.0       0.0   1.0       Real Bed   60.0  \n",
       "1        1.0       0.0   1.0  Pull-out Sofa  115.0  \n",
       "2        1.0       2.0   2.0       Real Bed  119.0  \n",
       "3        1.0       1.0   1.0       Real Bed  130.0  \n",
       "4        1.0       1.0   1.0       Real Bed   75.0  "
      ]
     },
     "execution_count": 4,
     "metadata": {},
     "output_type": "execute_result"
    }
   ],
   "source": [
    "qry = \"\"\"\n",
    "SELECT * \n",
    "FROM db \n",
    "LIMIT 5;\n",
    "\"\"\"\n",
    "dbs = pandas.read_sql(qry, engine)\n",
    "dbs"
   ]
  },
  {
   "cell_type": "code",
   "execution_count": 5,
   "metadata": {},
   "outputs": [
    {
     "name": "stdout",
     "output_type": "stream",
     "text": [
      "<class 'pandas.core.frame.DataFrame'>\n",
      "RangeIndex: 5137 entries, 0 to 5136\n",
      "Data columns (total 2 columns):\n",
      " #   Column  Non-Null Count  Dtype  \n",
      "---  ------  --------------  -----  \n",
      " 0   id      5137 non-null   int64  \n",
      " 1   Price   5137 non-null   float64\n",
      "dtypes: float64(1), int64(1)\n",
      "memory usage: 80.4 KB\n"
     ]
    }
   ],
   "source": [
    "qry = \"\"\"\n",
    "SELECT id, Price \n",
    "FROM db \n",
    "WHERE neighbourhood_cleansed = 'Popincourt';\n",
    "\"\"\"\n",
    "dbs = pandas.read_sql(qry, engine)\n",
    "dbs.info()"
   ]
  },
  {
   "cell_type": "markdown",
   "metadata": {},
   "source": [
    "* Explore"
   ]
  },
  {
   "cell_type": "code",
   "execution_count": 6,
   "metadata": {},
   "outputs": [
    {
     "data": {
      "text/html": [
       "<div>\n",
       "<style scoped>\n",
       "    .dataframe tbody tr th:only-of-type {\n",
       "        vertical-align: middle;\n",
       "    }\n",
       "\n",
       "    .dataframe tbody tr th {\n",
       "        vertical-align: top;\n",
       "    }\n",
       "\n",
       "    .dataframe thead th {\n",
       "        text-align: right;\n",
       "    }\n",
       "</style>\n",
       "<table border=\"1\" class=\"dataframe\">\n",
       "  <thead>\n",
       "    <tr style=\"text-align: right;\">\n",
       "      <th></th>\n",
       "      <th>id</th>\n",
       "      <th>neighbourhood_cleansed</th>\n",
       "      <th>property_type</th>\n",
       "      <th>room_type</th>\n",
       "      <th>accommodates</th>\n",
       "      <th>bathrooms</th>\n",
       "      <th>bedrooms</th>\n",
       "      <th>beds</th>\n",
       "      <th>bed_type</th>\n",
       "      <th>Price</th>\n",
       "    </tr>\n",
       "  </thead>\n",
       "  <tbody>\n",
       "    <tr>\n",
       "      <th>0</th>\n",
       "      <td>3109</td>\n",
       "      <td>Observatoire</td>\n",
       "      <td>Apartment</td>\n",
       "      <td>Entire home/apt</td>\n",
       "      <td>2</td>\n",
       "      <td>1.0</td>\n",
       "      <td>0.0</td>\n",
       "      <td>1.0</td>\n",
       "      <td>Real Bed</td>\n",
       "      <td>60.0</td>\n",
       "    </tr>\n",
       "    <tr>\n",
       "      <th>1</th>\n",
       "      <td>5396</td>\n",
       "      <td>Hôtel-de-Ville</td>\n",
       "      <td>Apartment</td>\n",
       "      <td>Entire home/apt</td>\n",
       "      <td>2</td>\n",
       "      <td>1.0</td>\n",
       "      <td>0.0</td>\n",
       "      <td>1.0</td>\n",
       "      <td>Pull-out Sofa</td>\n",
       "      <td>115.0</td>\n",
       "    </tr>\n",
       "    <tr>\n",
       "      <th>2</th>\n",
       "      <td>7397</td>\n",
       "      <td>Hôtel-de-Ville</td>\n",
       "      <td>Apartment</td>\n",
       "      <td>Entire home/apt</td>\n",
       "      <td>4</td>\n",
       "      <td>1.0</td>\n",
       "      <td>2.0</td>\n",
       "      <td>2.0</td>\n",
       "      <td>Real Bed</td>\n",
       "      <td>119.0</td>\n",
       "    </tr>\n",
       "    <tr>\n",
       "      <th>3</th>\n",
       "      <td>7964</td>\n",
       "      <td>Opéra</td>\n",
       "      <td>Apartment</td>\n",
       "      <td>Entire home/apt</td>\n",
       "      <td>2</td>\n",
       "      <td>1.0</td>\n",
       "      <td>1.0</td>\n",
       "      <td>1.0</td>\n",
       "      <td>Real Bed</td>\n",
       "      <td>130.0</td>\n",
       "    </tr>\n",
       "    <tr>\n",
       "      <th>4</th>\n",
       "      <td>9952</td>\n",
       "      <td>Popincourt</td>\n",
       "      <td>Apartment</td>\n",
       "      <td>Entire home/apt</td>\n",
       "      <td>2</td>\n",
       "      <td>1.0</td>\n",
       "      <td>1.0</td>\n",
       "      <td>1.0</td>\n",
       "      <td>Real Bed</td>\n",
       "      <td>75.0</td>\n",
       "    </tr>\n",
       "  </tbody>\n",
       "</table>\n",
       "</div>"
      ],
      "text/plain": [
       "     id neighbourhood_cleansed property_type        room_type  accommodates  \\\n",
       "0  3109           Observatoire     Apartment  Entire home/apt             2   \n",
       "1  5396         Hôtel-de-Ville     Apartment  Entire home/apt             2   \n",
       "2  7397         Hôtel-de-Ville     Apartment  Entire home/apt             4   \n",
       "3  7964                  Opéra     Apartment  Entire home/apt             2   \n",
       "4  9952             Popincourt     Apartment  Entire home/apt             2   \n",
       "\n",
       "   bathrooms  bedrooms  beds       bed_type  Price  \n",
       "0        1.0       0.0   1.0       Real Bed   60.0  \n",
       "1        1.0       0.0   1.0  Pull-out Sofa  115.0  \n",
       "2        1.0       2.0   2.0       Real Bed  119.0  \n",
       "3        1.0       1.0   1.0       Real Bed  130.0  \n",
       "4        1.0       1.0   1.0       Real Bed   75.0  "
      ]
     },
     "execution_count": 6,
     "metadata": {},
     "output_type": "execute_result"
    }
   ],
   "source": [
    "db.head()"
   ]
  },
  {
   "cell_type": "code",
   "execution_count": 7,
   "metadata": {},
   "outputs": [
    {
     "name": "stdout",
     "output_type": "stream",
     "text": [
      "<class 'pandas.core.frame.DataFrame'>\n",
      "RangeIndex: 50280 entries, 0 to 50279\n",
      "Data columns (total 10 columns):\n",
      " #   Column                  Non-Null Count  Dtype  \n",
      "---  ------                  --------------  -----  \n",
      " 0   id                      50280 non-null  int64  \n",
      " 1   neighbourhood_cleansed  50280 non-null  object \n",
      " 2   property_type           50280 non-null  object \n",
      " 3   room_type               50280 non-null  object \n",
      " 4   accommodates            50280 non-null  int64  \n",
      " 5   bathrooms               50280 non-null  float64\n",
      " 6   bedrooms                50280 non-null  float64\n",
      " 7   beds                    50280 non-null  float64\n",
      " 8   bed_type                50280 non-null  object \n",
      " 9   Price                   50280 non-null  float64\n",
      "dtypes: float64(4), int64(2), object(4)\n",
      "memory usage: 3.8+ MB\n"
     ]
    }
   ],
   "source": [
    "db.info()"
   ]
  },
  {
   "cell_type": "code",
   "execution_count": 8,
   "metadata": {},
   "outputs": [
    {
     "data": {
      "text/html": [
       "<div>\n",
       "<style scoped>\n",
       "    .dataframe tbody tr th:only-of-type {\n",
       "        vertical-align: middle;\n",
       "    }\n",
       "\n",
       "    .dataframe tbody tr th {\n",
       "        vertical-align: top;\n",
       "    }\n",
       "\n",
       "    .dataframe thead th {\n",
       "        text-align: right;\n",
       "    }\n",
       "</style>\n",
       "<table border=\"1\" class=\"dataframe\">\n",
       "  <thead>\n",
       "    <tr style=\"text-align: right;\">\n",
       "      <th></th>\n",
       "      <th>id</th>\n",
       "      <th>accommodates</th>\n",
       "      <th>bathrooms</th>\n",
       "      <th>bedrooms</th>\n",
       "      <th>beds</th>\n",
       "      <th>Price</th>\n",
       "    </tr>\n",
       "  </thead>\n",
       "  <tbody>\n",
       "    <tr>\n",
       "      <th>count</th>\n",
       "      <td>5.028000e+04</td>\n",
       "      <td>50280.000000</td>\n",
       "      <td>50280.000000</td>\n",
       "      <td>50280.000000</td>\n",
       "      <td>50280.000000</td>\n",
       "      <td>50280.000000</td>\n",
       "    </tr>\n",
       "    <tr>\n",
       "      <th>mean</th>\n",
       "      <td>1.968671e+07</td>\n",
       "      <td>3.063425</td>\n",
       "      <td>1.117045</td>\n",
       "      <td>1.077804</td>\n",
       "      <td>1.664698</td>\n",
       "      <td>110.630549</td>\n",
       "    </tr>\n",
       "    <tr>\n",
       "      <th>std</th>\n",
       "      <td>1.140675e+07</td>\n",
       "      <td>1.556731</td>\n",
       "      <td>0.687370</td>\n",
       "      <td>1.001000</td>\n",
       "      <td>1.164917</td>\n",
       "      <td>157.848189</td>\n",
       "    </tr>\n",
       "    <tr>\n",
       "      <th>min</th>\n",
       "      <td>3.109000e+03</td>\n",
       "      <td>1.000000</td>\n",
       "      <td>0.000000</td>\n",
       "      <td>0.000000</td>\n",
       "      <td>0.000000</td>\n",
       "      <td>0.000000</td>\n",
       "    </tr>\n",
       "    <tr>\n",
       "      <th>25%</th>\n",
       "      <td>9.340209e+06</td>\n",
       "      <td>2.000000</td>\n",
       "      <td>1.000000</td>\n",
       "      <td>1.000000</td>\n",
       "      <td>1.000000</td>\n",
       "      <td>60.000000</td>\n",
       "    </tr>\n",
       "    <tr>\n",
       "      <th>50%</th>\n",
       "      <td>1.999153e+07</td>\n",
       "      <td>2.000000</td>\n",
       "      <td>1.000000</td>\n",
       "      <td>1.000000</td>\n",
       "      <td>1.000000</td>\n",
       "      <td>80.000000</td>\n",
       "    </tr>\n",
       "    <tr>\n",
       "      <th>75%</th>\n",
       "      <td>2.987492e+07</td>\n",
       "      <td>4.000000</td>\n",
       "      <td>1.000000</td>\n",
       "      <td>1.000000</td>\n",
       "      <td>2.000000</td>\n",
       "      <td>120.000000</td>\n",
       "    </tr>\n",
       "    <tr>\n",
       "      <th>max</th>\n",
       "      <td>3.858893e+07</td>\n",
       "      <td>17.000000</td>\n",
       "      <td>50.000000</td>\n",
       "      <td>50.000000</td>\n",
       "      <td>50.000000</td>\n",
       "      <td>10000.000000</td>\n",
       "    </tr>\n",
       "  </tbody>\n",
       "</table>\n",
       "</div>"
      ],
      "text/plain": [
       "                 id  accommodates     bathrooms      bedrooms          beds  \\\n",
       "count  5.028000e+04  50280.000000  50280.000000  50280.000000  50280.000000   \n",
       "mean   1.968671e+07      3.063425      1.117045      1.077804      1.664698   \n",
       "std    1.140675e+07      1.556731      0.687370      1.001000      1.164917   \n",
       "min    3.109000e+03      1.000000      0.000000      0.000000      0.000000   \n",
       "25%    9.340209e+06      2.000000      1.000000      1.000000      1.000000   \n",
       "50%    1.999153e+07      2.000000      1.000000      1.000000      1.000000   \n",
       "75%    2.987492e+07      4.000000      1.000000      1.000000      2.000000   \n",
       "max    3.858893e+07     17.000000     50.000000     50.000000     50.000000   \n",
       "\n",
       "              Price  \n",
       "count  50280.000000  \n",
       "mean     110.630549  \n",
       "std      157.848189  \n",
       "min        0.000000  \n",
       "25%       60.000000  \n",
       "50%       80.000000  \n",
       "75%      120.000000  \n",
       "max    10000.000000  "
      ]
     },
     "execution_count": 8,
     "metadata": {},
     "output_type": "execute_result"
    }
   ],
   "source": [
    "db.describe()"
   ]
  },
  {
   "cell_type": "markdown",
   "metadata": {},
   "source": [
    "`DataFrame` objects can hold different types of data\n",
    "\n",
    "- \"Whole\" numbers (`int`)\n",
    "- Decimals (`float`)\n",
    "- Categorical (`pandas.Category`)\n",
    "- Dates (`pandas.Timestamp`)\n",
    "- Geo (`geopandas.GeoDataFrame`)\n",
    "- ..."
   ]
  },
  {
   "cell_type": "markdown",
   "metadata": {},
   "source": [
    "## Indices"
   ]
  },
  {
   "cell_type": "code",
   "execution_count": 9,
   "metadata": {},
   "outputs": [
    {
     "data": {
      "text/html": [
       "<div>\n",
       "<style scoped>\n",
       "    .dataframe tbody tr th:only-of-type {\n",
       "        vertical-align: middle;\n",
       "    }\n",
       "\n",
       "    .dataframe tbody tr th {\n",
       "        vertical-align: top;\n",
       "    }\n",
       "\n",
       "    .dataframe thead th {\n",
       "        text-align: right;\n",
       "    }\n",
       "</style>\n",
       "<table border=\"1\" class=\"dataframe\">\n",
       "  <thead>\n",
       "    <tr style=\"text-align: right;\">\n",
       "      <th></th>\n",
       "      <th>id</th>\n",
       "      <th>neighbourhood_cleansed</th>\n",
       "      <th>property_type</th>\n",
       "      <th>room_type</th>\n",
       "      <th>accommodates</th>\n",
       "      <th>bathrooms</th>\n",
       "      <th>bedrooms</th>\n",
       "      <th>beds</th>\n",
       "      <th>bed_type</th>\n",
       "      <th>Price</th>\n",
       "    </tr>\n",
       "  </thead>\n",
       "  <tbody>\n",
       "    <tr>\n",
       "      <th>0</th>\n",
       "      <td>3109</td>\n",
       "      <td>Observatoire</td>\n",
       "      <td>Apartment</td>\n",
       "      <td>Entire home/apt</td>\n",
       "      <td>2</td>\n",
       "      <td>1.0</td>\n",
       "      <td>0.0</td>\n",
       "      <td>1.0</td>\n",
       "      <td>Real Bed</td>\n",
       "      <td>60.0</td>\n",
       "    </tr>\n",
       "    <tr>\n",
       "      <th>1</th>\n",
       "      <td>5396</td>\n",
       "      <td>Hôtel-de-Ville</td>\n",
       "      <td>Apartment</td>\n",
       "      <td>Entire home/apt</td>\n",
       "      <td>2</td>\n",
       "      <td>1.0</td>\n",
       "      <td>0.0</td>\n",
       "      <td>1.0</td>\n",
       "      <td>Pull-out Sofa</td>\n",
       "      <td>115.0</td>\n",
       "    </tr>\n",
       "  </tbody>\n",
       "</table>\n",
       "</div>"
      ],
      "text/plain": [
       "     id neighbourhood_cleansed property_type        room_type  accommodates  \\\n",
       "0  3109           Observatoire     Apartment  Entire home/apt             2   \n",
       "1  5396         Hôtel-de-Ville     Apartment  Entire home/apt             2   \n",
       "\n",
       "   bathrooms  bedrooms  beds       bed_type  Price  \n",
       "0        1.0       0.0   1.0       Real Bed   60.0  \n",
       "1        1.0       0.0   1.0  Pull-out Sofa  115.0  "
      ]
     },
     "execution_count": 9,
     "metadata": {},
     "output_type": "execute_result"
    }
   ],
   "source": [
    "db.head(2)"
   ]
  },
  {
   "cell_type": "code",
   "execution_count": 10,
   "metadata": {},
   "outputs": [
    {
     "data": {
      "text/html": [
       "<div>\n",
       "<style scoped>\n",
       "    .dataframe tbody tr th:only-of-type {\n",
       "        vertical-align: middle;\n",
       "    }\n",
       "\n",
       "    .dataframe tbody tr th {\n",
       "        vertical-align: top;\n",
       "    }\n",
       "\n",
       "    .dataframe thead th {\n",
       "        text-align: right;\n",
       "    }\n",
       "</style>\n",
       "<table border=\"1\" class=\"dataframe\">\n",
       "  <thead>\n",
       "    <tr style=\"text-align: right;\">\n",
       "      <th></th>\n",
       "      <th>neighbourhood_cleansed</th>\n",
       "      <th>property_type</th>\n",
       "      <th>room_type</th>\n",
       "      <th>accommodates</th>\n",
       "      <th>bathrooms</th>\n",
       "      <th>bedrooms</th>\n",
       "      <th>beds</th>\n",
       "      <th>bed_type</th>\n",
       "      <th>Price</th>\n",
       "    </tr>\n",
       "    <tr>\n",
       "      <th>id</th>\n",
       "      <th></th>\n",
       "      <th></th>\n",
       "      <th></th>\n",
       "      <th></th>\n",
       "      <th></th>\n",
       "      <th></th>\n",
       "      <th></th>\n",
       "      <th></th>\n",
       "      <th></th>\n",
       "    </tr>\n",
       "  </thead>\n",
       "  <tbody>\n",
       "    <tr>\n",
       "      <th>3109</th>\n",
       "      <td>Observatoire</td>\n",
       "      <td>Apartment</td>\n",
       "      <td>Entire home/apt</td>\n",
       "      <td>2</td>\n",
       "      <td>1.0</td>\n",
       "      <td>0.0</td>\n",
       "      <td>1.0</td>\n",
       "      <td>Real Bed</td>\n",
       "      <td>60.0</td>\n",
       "    </tr>\n",
       "    <tr>\n",
       "      <th>5396</th>\n",
       "      <td>Hôtel-de-Ville</td>\n",
       "      <td>Apartment</td>\n",
       "      <td>Entire home/apt</td>\n",
       "      <td>2</td>\n",
       "      <td>1.0</td>\n",
       "      <td>0.0</td>\n",
       "      <td>1.0</td>\n",
       "      <td>Pull-out Sofa</td>\n",
       "      <td>115.0</td>\n",
       "    </tr>\n",
       "  </tbody>\n",
       "</table>\n",
       "</div>"
      ],
      "text/plain": [
       "     neighbourhood_cleansed property_type        room_type  accommodates  \\\n",
       "id                                                                         \n",
       "3109           Observatoire     Apartment  Entire home/apt             2   \n",
       "5396         Hôtel-de-Ville     Apartment  Entire home/apt             2   \n",
       "\n",
       "      bathrooms  bedrooms  beds       bed_type  Price  \n",
       "id                                                     \n",
       "3109        1.0       0.0   1.0       Real Bed   60.0  \n",
       "5396        1.0       0.0   1.0  Pull-out Sofa  115.0  "
      ]
     },
     "execution_count": 10,
     "metadata": {},
     "output_type": "execute_result"
    }
   ],
   "source": [
    "db.set_index(\"id\").head(2)"
   ]
  },
  {
   "cell_type": "code",
   "execution_count": 11,
   "metadata": {},
   "outputs": [],
   "source": [
    "dbi = db.set_index(\"id\")"
   ]
  },
  {
   "cell_type": "code",
   "execution_count": 12,
   "metadata": {},
   "outputs": [
    {
     "data": {
      "text/plain": [
       "Int64Index([    3109,     5396,     7397,     7964,     9952,    10710,\n",
       "               11170,    11213,    11265,    11798,\n",
       "            ...\n",
       "            38485563, 38489275, 38513797, 38516223, 38516341, 38517692,\n",
       "            38520175, 38537044, 38546594, 38588929],\n",
       "           dtype='int64', name='id', length=50280)"
      ]
     },
     "execution_count": 12,
     "metadata": {},
     "output_type": "execute_result"
    }
   ],
   "source": [
    "dbi.index"
   ]
  },
  {
   "cell_type": "code",
   "execution_count": 13,
   "metadata": {},
   "outputs": [
    {
     "data": {
      "text/plain": [
       "Index(['neighbourhood_cleansed', 'property_type', 'room_type', 'accommodates',\n",
       "       'bathrooms', 'bedrooms', 'beds', 'bed_type', 'Price'],\n",
       "      dtype='object')"
      ]
     },
     "execution_count": 13,
     "metadata": {},
     "output_type": "execute_result"
    }
   ],
   "source": [
    "dbi.columns"
   ]
  },
  {
   "cell_type": "markdown",
   "metadata": {},
   "source": [
    "## Slicing and Dicing Data"
   ]
  },
  {
   "cell_type": "markdown",
   "metadata": {},
   "source": [
    "### Index-based queries"
   ]
  },
  {
   "cell_type": "markdown",
   "metadata": {},
   "source": [
    "- Columns"
   ]
  },
  {
   "cell_type": "code",
   "execution_count": 14,
   "metadata": {},
   "outputs": [
    {
     "data": {
      "text/plain": [
       "0     60.0\n",
       "1    115.0\n",
       "2    119.0\n",
       "3    130.0\n",
       "4     75.0\n",
       "Name: Price, dtype: float64"
      ]
     },
     "execution_count": 14,
     "metadata": {},
     "output_type": "execute_result"
    }
   ],
   "source": [
    "db[\"Price\"].head()"
   ]
  },
  {
   "cell_type": "markdown",
   "metadata": {},
   "source": [
    "- Generic point-querying"
   ]
  },
  {
   "cell_type": "code",
   "execution_count": 15,
   "metadata": {},
   "outputs": [
    {
     "data": {
      "text/plain": [
       "60.0"
      ]
     },
     "execution_count": 15,
     "metadata": {},
     "output_type": "execute_result"
    }
   ],
   "source": [
    "db.loc[0, \"Price\"]"
   ]
  },
  {
   "cell_type": "markdown",
   "metadata": {},
   "source": [
    "- Full slice of one dimension"
   ]
  },
  {
   "cell_type": "code",
   "execution_count": 16,
   "metadata": {},
   "outputs": [
    {
     "data": {
      "text/plain": [
       "id                                   3109\n",
       "neighbourhood_cleansed       Observatoire\n",
       "property_type                   Apartment\n",
       "room_type                 Entire home/apt\n",
       "accommodates                            2\n",
       "bathrooms                               1\n",
       "bedrooms                                0\n",
       "beds                                    1\n",
       "bed_type                         Real Bed\n",
       "Price                                  60\n",
       "Name: 0, dtype: object"
      ]
     },
     "execution_count": 16,
     "metadata": {},
     "output_type": "execute_result"
    }
   ],
   "source": [
    "db.loc[0, :]"
   ]
  },
  {
   "cell_type": "code",
   "execution_count": 17,
   "metadata": {},
   "outputs": [
    {
     "data": {
      "text/plain": [
       "0         60.0\n",
       "1        115.0\n",
       "2        119.0\n",
       "3        130.0\n",
       "4         75.0\n",
       "         ...  \n",
       "50275    250.0\n",
       "50276     40.0\n",
       "50277     60.0\n",
       "50278     65.0\n",
       "50279     69.0\n",
       "Name: Price, Length: 50280, dtype: float64"
      ]
     },
     "execution_count": 17,
     "metadata": {},
     "output_type": "execute_result"
    }
   ],
   "source": [
    "db.loc[:, \"Price\"]"
   ]
  },
  {
   "cell_type": "markdown",
   "metadata": {},
   "source": [
    "- Range queries"
   ]
  },
  {
   "cell_type": "code",
   "execution_count": 18,
   "metadata": {},
   "outputs": [
    {
     "data": {
      "text/plain": [
       "0      Observatoire\n",
       "1    Hôtel-de-Ville\n",
       "2    Hôtel-de-Ville\n",
       "3             Opéra\n",
       "4        Popincourt\n",
       "5            Élysée\n",
       "Name: neighbourhood_cleansed, dtype: object"
      ]
     },
     "execution_count": 18,
     "metadata": {},
     "output_type": "execute_result"
    }
   ],
   "source": [
    "db.loc[0:5, \"neighbourhood_cleansed\"]"
   ]
  },
  {
   "cell_type": "code",
   "execution_count": 19,
   "metadata": {},
   "outputs": [
    {
     "data": {
      "text/plain": [
       "property_type          Apartment\n",
       "room_type        Entire home/apt\n",
       "accommodates                   4\n",
       "bathrooms                      1\n",
       "bedrooms                       1\n",
       "beds                           2\n",
       "bed_type                Real Bed\n",
       "Name: 5, dtype: object"
      ]
     },
     "execution_count": 19,
     "metadata": {},
     "output_type": "execute_result"
    }
   ],
   "source": [
    "db.loc[5, \"property_type\":\"bed_type\"]"
   ]
  },
  {
   "cell_type": "markdown",
   "metadata": {},
   "source": [
    "- List-based queries"
   ]
  },
  {
   "cell_type": "code",
   "execution_count": 20,
   "metadata": {},
   "outputs": [
    {
     "data": {
      "text/html": [
       "<div>\n",
       "<style scoped>\n",
       "    .dataframe tbody tr th:only-of-type {\n",
       "        vertical-align: middle;\n",
       "    }\n",
       "\n",
       "    .dataframe tbody tr th {\n",
       "        vertical-align: top;\n",
       "    }\n",
       "\n",
       "    .dataframe thead th {\n",
       "        text-align: right;\n",
       "    }\n",
       "</style>\n",
       "<table border=\"1\" class=\"dataframe\">\n",
       "  <thead>\n",
       "    <tr style=\"text-align: right;\">\n",
       "      <th></th>\n",
       "      <th>Price</th>\n",
       "      <th>id</th>\n",
       "    </tr>\n",
       "  </thead>\n",
       "  <tbody>\n",
       "    <tr>\n",
       "      <th>0</th>\n",
       "      <td>60.0</td>\n",
       "      <td>3109</td>\n",
       "    </tr>\n",
       "    <tr>\n",
       "      <th>49</th>\n",
       "      <td>128.0</td>\n",
       "      <td>32082</td>\n",
       "    </tr>\n",
       "    <tr>\n",
       "      <th>19</th>\n",
       "      <td>65.0</td>\n",
       "      <td>17919</td>\n",
       "    </tr>\n",
       "    <tr>\n",
       "      <th>29</th>\n",
       "      <td>80.0</td>\n",
       "      <td>21264</td>\n",
       "    </tr>\n",
       "    <tr>\n",
       "      <th>39</th>\n",
       "      <td>49.0</td>\n",
       "      <td>26567</td>\n",
       "    </tr>\n",
       "    <tr>\n",
       "      <th>9</th>\n",
       "      <td>120.0</td>\n",
       "      <td>11798</td>\n",
       "    </tr>\n",
       "  </tbody>\n",
       "</table>\n",
       "</div>"
      ],
      "text/plain": [
       "    Price     id\n",
       "0    60.0   3109\n",
       "49  128.0  32082\n",
       "19   65.0  17919\n",
       "29   80.0  21264\n",
       "39   49.0  26567\n",
       "9   120.0  11798"
      ]
     },
     "execution_count": 20,
     "metadata": {},
     "output_type": "execute_result"
    }
   ],
   "source": [
    "db.loc[[0, 49, 19, 29, 39, 9], [\"Price\", \"id\"]]"
   ]
  },
  {
   "cell_type": "markdown",
   "metadata": {},
   "source": [
    "### Order-based queries"
   ]
  },
  {
   "cell_type": "code",
   "execution_count": 21,
   "metadata": {},
   "outputs": [
    {
     "data": {
      "text/html": [
       "<div>\n",
       "<style scoped>\n",
       "    .dataframe tbody tr th:only-of-type {\n",
       "        vertical-align: middle;\n",
       "    }\n",
       "\n",
       "    .dataframe tbody tr th {\n",
       "        vertical-align: top;\n",
       "    }\n",
       "\n",
       "    .dataframe thead th {\n",
       "        text-align: right;\n",
       "    }\n",
       "</style>\n",
       "<table border=\"1\" class=\"dataframe\">\n",
       "  <thead>\n",
       "    <tr style=\"text-align: right;\">\n",
       "      <th></th>\n",
       "      <th>neighbourhood_cleansed</th>\n",
       "      <th>property_type</th>\n",
       "      <th>room_type</th>\n",
       "      <th>accommodates</th>\n",
       "      <th>bathrooms</th>\n",
       "      <th>bedrooms</th>\n",
       "      <th>beds</th>\n",
       "      <th>bed_type</th>\n",
       "      <th>Price</th>\n",
       "    </tr>\n",
       "    <tr>\n",
       "      <th>id</th>\n",
       "      <th></th>\n",
       "      <th></th>\n",
       "      <th></th>\n",
       "      <th></th>\n",
       "      <th></th>\n",
       "      <th></th>\n",
       "      <th></th>\n",
       "      <th></th>\n",
       "      <th></th>\n",
       "    </tr>\n",
       "  </thead>\n",
       "  <tbody>\n",
       "    <tr>\n",
       "      <th>3109</th>\n",
       "      <td>Observatoire</td>\n",
       "      <td>Apartment</td>\n",
       "      <td>Entire home/apt</td>\n",
       "      <td>2</td>\n",
       "      <td>1.0</td>\n",
       "      <td>0.0</td>\n",
       "      <td>1.0</td>\n",
       "      <td>Real Bed</td>\n",
       "      <td>60.0</td>\n",
       "    </tr>\n",
       "    <tr>\n",
       "      <th>5396</th>\n",
       "      <td>Hôtel-de-Ville</td>\n",
       "      <td>Apartment</td>\n",
       "      <td>Entire home/apt</td>\n",
       "      <td>2</td>\n",
       "      <td>1.0</td>\n",
       "      <td>0.0</td>\n",
       "      <td>1.0</td>\n",
       "      <td>Pull-out Sofa</td>\n",
       "      <td>115.0</td>\n",
       "    </tr>\n",
       "    <tr>\n",
       "      <th>7397</th>\n",
       "      <td>Hôtel-de-Ville</td>\n",
       "      <td>Apartment</td>\n",
       "      <td>Entire home/apt</td>\n",
       "      <td>4</td>\n",
       "      <td>1.0</td>\n",
       "      <td>2.0</td>\n",
       "      <td>2.0</td>\n",
       "      <td>Real Bed</td>\n",
       "      <td>119.0</td>\n",
       "    </tr>\n",
       "    <tr>\n",
       "      <th>7964</th>\n",
       "      <td>Opéra</td>\n",
       "      <td>Apartment</td>\n",
       "      <td>Entire home/apt</td>\n",
       "      <td>2</td>\n",
       "      <td>1.0</td>\n",
       "      <td>1.0</td>\n",
       "      <td>1.0</td>\n",
       "      <td>Real Bed</td>\n",
       "      <td>130.0</td>\n",
       "    </tr>\n",
       "    <tr>\n",
       "      <th>9952</th>\n",
       "      <td>Popincourt</td>\n",
       "      <td>Apartment</td>\n",
       "      <td>Entire home/apt</td>\n",
       "      <td>2</td>\n",
       "      <td>1.0</td>\n",
       "      <td>1.0</td>\n",
       "      <td>1.0</td>\n",
       "      <td>Real Bed</td>\n",
       "      <td>75.0</td>\n",
       "    </tr>\n",
       "  </tbody>\n",
       "</table>\n",
       "</div>"
      ],
      "text/plain": [
       "     neighbourhood_cleansed property_type        room_type  accommodates  \\\n",
       "id                                                                         \n",
       "3109           Observatoire     Apartment  Entire home/apt             2   \n",
       "5396         Hôtel-de-Ville     Apartment  Entire home/apt             2   \n",
       "7397         Hôtel-de-Ville     Apartment  Entire home/apt             4   \n",
       "7964                  Opéra     Apartment  Entire home/apt             2   \n",
       "9952             Popincourt     Apartment  Entire home/apt             2   \n",
       "\n",
       "      bathrooms  bedrooms  beds       bed_type  Price  \n",
       "id                                                     \n",
       "3109        1.0       0.0   1.0       Real Bed   60.0  \n",
       "5396        1.0       0.0   1.0  Pull-out Sofa  115.0  \n",
       "7397        1.0       2.0   2.0       Real Bed  119.0  \n",
       "7964        1.0       1.0   1.0       Real Bed  130.0  \n",
       "9952        1.0       1.0   1.0       Real Bed   75.0  "
      ]
     },
     "execution_count": 21,
     "metadata": {},
     "output_type": "execute_result"
    }
   ],
   "source": [
    "dbi.iloc[0:5, :]"
   ]
  },
  {
   "cell_type": "markdown",
   "metadata": {},
   "source": [
    "---\n",
    "\n",
    "**EXERCISE**: \n",
    "\n",
    "- Slice the dataset to keep only properties with the following IDs, in that order: `38520175`,  `619716`, and `37847454`\n",
    "- Extract the section of the dataset that includes the 50th to the 100th rows, and the `room_type` and `bedrooms` columns\n",
    "\n",
    "---"
   ]
  },
  {
   "cell_type": "markdown",
   "metadata": {},
   "source": [
    "### Conditional queries"
   ]
  },
  {
   "cell_type": "markdown",
   "metadata": {},
   "source": [
    "- Using `loc`"
   ]
  },
  {
   "cell_type": "code",
   "execution_count": 22,
   "metadata": {},
   "outputs": [
    {
     "data": {
      "text/html": [
       "<div>\n",
       "<style scoped>\n",
       "    .dataframe tbody tr th:only-of-type {\n",
       "        vertical-align: middle;\n",
       "    }\n",
       "\n",
       "    .dataframe tbody tr th {\n",
       "        vertical-align: top;\n",
       "    }\n",
       "\n",
       "    .dataframe thead th {\n",
       "        text-align: right;\n",
       "    }\n",
       "</style>\n",
       "<table border=\"1\" class=\"dataframe\">\n",
       "  <thead>\n",
       "    <tr style=\"text-align: right;\">\n",
       "      <th></th>\n",
       "      <th>neighbourhood_cleansed</th>\n",
       "      <th>Price</th>\n",
       "    </tr>\n",
       "  </thead>\n",
       "  <tbody>\n",
       "    <tr>\n",
       "      <th>0</th>\n",
       "      <td>Observatoire</td>\n",
       "      <td>60.0</td>\n",
       "    </tr>\n",
       "    <tr>\n",
       "      <th>47</th>\n",
       "      <td>Observatoire</td>\n",
       "      <td>90.0</td>\n",
       "    </tr>\n",
       "    <tr>\n",
       "      <th>52</th>\n",
       "      <td>Observatoire</td>\n",
       "      <td>150.0</td>\n",
       "    </tr>\n",
       "    <tr>\n",
       "      <th>104</th>\n",
       "      <td>Observatoire</td>\n",
       "      <td>84.0</td>\n",
       "    </tr>\n",
       "    <tr>\n",
       "      <th>144</th>\n",
       "      <td>Observatoire</td>\n",
       "      <td>140.0</td>\n",
       "    </tr>\n",
       "  </tbody>\n",
       "</table>\n",
       "</div>"
      ],
      "text/plain": [
       "    neighbourhood_cleansed  Price\n",
       "0             Observatoire   60.0\n",
       "47            Observatoire   90.0\n",
       "52            Observatoire  150.0\n",
       "104           Observatoire   84.0\n",
       "144           Observatoire  140.0"
      ]
     },
     "execution_count": 22,
     "metadata": {},
     "output_type": "execute_result"
    }
   ],
   "source": [
    "db.loc[db[\"neighbourhood_cleansed\"] == \"Observatoire\", \n",
    "       [\"neighbourhood_cleansed\", \"Price\"]]\\\n",
    "  .head()"
   ]
  },
  {
   "cell_type": "code",
   "execution_count": 23,
   "metadata": {},
   "outputs": [
    {
     "data": {
      "text/html": [
       "<div>\n",
       "<style scoped>\n",
       "    .dataframe tbody tr th:only-of-type {\n",
       "        vertical-align: middle;\n",
       "    }\n",
       "\n",
       "    .dataframe tbody tr th {\n",
       "        vertical-align: top;\n",
       "    }\n",
       "\n",
       "    .dataframe thead th {\n",
       "        text-align: right;\n",
       "    }\n",
       "</style>\n",
       "<table border=\"1\" class=\"dataframe\">\n",
       "  <thead>\n",
       "    <tr style=\"text-align: right;\">\n",
       "      <th></th>\n",
       "      <th>id</th>\n",
       "      <th>neighbourhood_cleansed</th>\n",
       "    </tr>\n",
       "  </thead>\n",
       "  <tbody>\n",
       "    <tr>\n",
       "      <th>0</th>\n",
       "      <td>3109</td>\n",
       "      <td>Observatoire</td>\n",
       "    </tr>\n",
       "    <tr>\n",
       "      <th>4</th>\n",
       "      <td>9952</td>\n",
       "      <td>Popincourt</td>\n",
       "    </tr>\n",
       "    <tr>\n",
       "      <th>5</th>\n",
       "      <td>10710</td>\n",
       "      <td>Élysée</td>\n",
       "    </tr>\n",
       "    <tr>\n",
       "      <th>6</th>\n",
       "      <td>11170</td>\n",
       "      <td>Panthéon</td>\n",
       "    </tr>\n",
       "    <tr>\n",
       "      <th>10</th>\n",
       "      <td>11848</td>\n",
       "      <td>Popincourt</td>\n",
       "    </tr>\n",
       "  </tbody>\n",
       "</table>\n",
       "</div>"
      ],
      "text/plain": [
       "       id neighbourhood_cleansed\n",
       "0    3109           Observatoire\n",
       "4    9952             Popincourt\n",
       "5   10710                 Élysée\n",
       "6   11170               Panthéon\n",
       "10  11848             Popincourt"
      ]
     },
     "execution_count": 23,
     "metadata": {},
     "output_type": "execute_result"
    }
   ],
   "source": [
    "db.loc[db[\"Price\"] < 100, [\"id\", \"neighbourhood_cleansed\"]].head()"
   ]
  },
  {
   "cell_type": "code",
   "execution_count": 24,
   "metadata": {},
   "outputs": [
    {
     "data": {
      "text/html": [
       "<div>\n",
       "<style scoped>\n",
       "    .dataframe tbody tr th:only-of-type {\n",
       "        vertical-align: middle;\n",
       "    }\n",
       "\n",
       "    .dataframe tbody tr th {\n",
       "        vertical-align: top;\n",
       "    }\n",
       "\n",
       "    .dataframe thead th {\n",
       "        text-align: right;\n",
       "    }\n",
       "</style>\n",
       "<table border=\"1\" class=\"dataframe\">\n",
       "  <thead>\n",
       "    <tr style=\"text-align: right;\">\n",
       "      <th></th>\n",
       "      <th>id</th>\n",
       "      <th>neighbourhood_cleansed</th>\n",
       "      <th>property_type</th>\n",
       "      <th>room_type</th>\n",
       "      <th>accommodates</th>\n",
       "      <th>bathrooms</th>\n",
       "      <th>bedrooms</th>\n",
       "      <th>beds</th>\n",
       "      <th>bed_type</th>\n",
       "      <th>Price</th>\n",
       "    </tr>\n",
       "  </thead>\n",
       "  <tbody>\n",
       "    <tr>\n",
       "      <th>12066</th>\n",
       "      <td>8876983</td>\n",
       "      <td>Luxembourg</td>\n",
       "      <td>Boutique hotel</td>\n",
       "      <td>Private room</td>\n",
       "      <td>16</td>\n",
       "      <td>50.0</td>\n",
       "      <td>50.0</td>\n",
       "      <td>16.0</td>\n",
       "      <td>Real Bed</td>\n",
       "      <td>85.0</td>\n",
       "    </tr>\n",
       "    <tr>\n",
       "      <th>22964</th>\n",
       "      <td>18766792</td>\n",
       "      <td>Luxembourg</td>\n",
       "      <td>Boutique hotel</td>\n",
       "      <td>Private room</td>\n",
       "      <td>16</td>\n",
       "      <td>50.0</td>\n",
       "      <td>50.0</td>\n",
       "      <td>17.0</td>\n",
       "      <td>Real Bed</td>\n",
       "      <td>85.0</td>\n",
       "    </tr>\n",
       "    <tr>\n",
       "      <th>24788</th>\n",
       "      <td>19819352</td>\n",
       "      <td>Luxembourg</td>\n",
       "      <td>Boutique hotel</td>\n",
       "      <td>Private room</td>\n",
       "      <td>16</td>\n",
       "      <td>50.0</td>\n",
       "      <td>50.0</td>\n",
       "      <td>20.0</td>\n",
       "      <td>Real Bed</td>\n",
       "      <td>85.0</td>\n",
       "    </tr>\n",
       "    <tr>\n",
       "      <th>25798</th>\n",
       "      <td>20433587</td>\n",
       "      <td>Luxembourg</td>\n",
       "      <td>Boutique hotel</td>\n",
       "      <td>Private room</td>\n",
       "      <td>16</td>\n",
       "      <td>50.0</td>\n",
       "      <td>50.0</td>\n",
       "      <td>50.0</td>\n",
       "      <td>Real Bed</td>\n",
       "      <td>85.0</td>\n",
       "    </tr>\n",
       "    <tr>\n",
       "      <th>26048</th>\n",
       "      <td>20691340</td>\n",
       "      <td>Luxembourg</td>\n",
       "      <td>Boutique hotel</td>\n",
       "      <td>Private room</td>\n",
       "      <td>16</td>\n",
       "      <td>50.0</td>\n",
       "      <td>50.0</td>\n",
       "      <td>50.0</td>\n",
       "      <td>Real Bed</td>\n",
       "      <td>85.0</td>\n",
       "    </tr>\n",
       "    <tr>\n",
       "      <th>26108</th>\n",
       "      <td>20747725</td>\n",
       "      <td>Luxembourg</td>\n",
       "      <td>Boutique hotel</td>\n",
       "      <td>Private room</td>\n",
       "      <td>16</td>\n",
       "      <td>50.0</td>\n",
       "      <td>50.0</td>\n",
       "      <td>50.0</td>\n",
       "      <td>Real Bed</td>\n",
       "      <td>85.0</td>\n",
       "    </tr>\n",
       "    <tr>\n",
       "      <th>26121</th>\n",
       "      <td>20768013</td>\n",
       "      <td>Luxembourg</td>\n",
       "      <td>Boutique hotel</td>\n",
       "      <td>Private room</td>\n",
       "      <td>16</td>\n",
       "      <td>50.0</td>\n",
       "      <td>50.0</td>\n",
       "      <td>50.0</td>\n",
       "      <td>Real Bed</td>\n",
       "      <td>85.0</td>\n",
       "    </tr>\n",
       "  </tbody>\n",
       "</table>\n",
       "</div>"
      ],
      "text/plain": [
       "             id neighbourhood_cleansed   property_type     room_type  \\\n",
       "12066   8876983             Luxembourg  Boutique hotel  Private room   \n",
       "22964  18766792             Luxembourg  Boutique hotel  Private room   \n",
       "24788  19819352             Luxembourg  Boutique hotel  Private room   \n",
       "25798  20433587             Luxembourg  Boutique hotel  Private room   \n",
       "26048  20691340             Luxembourg  Boutique hotel  Private room   \n",
       "26108  20747725             Luxembourg  Boutique hotel  Private room   \n",
       "26121  20768013             Luxembourg  Boutique hotel  Private room   \n",
       "\n",
       "       accommodates  bathrooms  bedrooms  beds  bed_type  Price  \n",
       "12066            16       50.0      50.0  16.0  Real Bed   85.0  \n",
       "22964            16       50.0      50.0  17.0  Real Bed   85.0  \n",
       "24788            16       50.0      50.0  20.0  Real Bed   85.0  \n",
       "25798            16       50.0      50.0  50.0  Real Bed   85.0  \n",
       "26048            16       50.0      50.0  50.0  Real Bed   85.0  \n",
       "26108            16       50.0      50.0  50.0  Real Bed   85.0  \n",
       "26121            16       50.0      50.0  50.0  Real Bed   85.0  "
      ]
     },
     "execution_count": 24,
     "metadata": {},
     "output_type": "execute_result"
    }
   ],
   "source": [
    "db.loc[(db[\"Price\"] < 100) & \\\n",
    "       (db[\"bathrooms\"] >= 8),\n",
    "       :]"
   ]
  },
  {
   "cell_type": "markdown",
   "metadata": {},
   "source": [
    "- Conditional filters"
   ]
  },
  {
   "cell_type": "code",
   "execution_count": 25,
   "metadata": {},
   "outputs": [
    {
     "data": {
      "text/plain": [
       "0    False\n",
       "1    False\n",
       "2    False\n",
       "3    False\n",
       "4    False\n",
       "Name: bathrooms, dtype: bool"
      ]
     },
     "execution_count": 25,
     "metadata": {},
     "output_type": "execute_result"
    }
   ],
   "source": [
    "fltr = db[\"bathrooms\"] > 8\n",
    "fltr.head()"
   ]
  },
  {
   "cell_type": "code",
   "execution_count": 26,
   "metadata": {},
   "outputs": [
    {
     "data": {
      "text/html": [
       "<div>\n",
       "<style scoped>\n",
       "    .dataframe tbody tr th:only-of-type {\n",
       "        vertical-align: middle;\n",
       "    }\n",
       "\n",
       "    .dataframe tbody tr th {\n",
       "        vertical-align: top;\n",
       "    }\n",
       "\n",
       "    .dataframe thead th {\n",
       "        text-align: right;\n",
       "    }\n",
       "</style>\n",
       "<table border=\"1\" class=\"dataframe\">\n",
       "  <thead>\n",
       "    <tr style=\"text-align: right;\">\n",
       "      <th></th>\n",
       "      <th>id</th>\n",
       "      <th>neighbourhood_cleansed</th>\n",
       "      <th>property_type</th>\n",
       "      <th>room_type</th>\n",
       "      <th>accommodates</th>\n",
       "      <th>bathrooms</th>\n",
       "      <th>bedrooms</th>\n",
       "      <th>beds</th>\n",
       "      <th>bed_type</th>\n",
       "      <th>Price</th>\n",
       "    </tr>\n",
       "  </thead>\n",
       "  <tbody>\n",
       "    <tr>\n",
       "      <th>12066</th>\n",
       "      <td>8876983</td>\n",
       "      <td>Luxembourg</td>\n",
       "      <td>Boutique hotel</td>\n",
       "      <td>Private room</td>\n",
       "      <td>16</td>\n",
       "      <td>50.0</td>\n",
       "      <td>50.0</td>\n",
       "      <td>16.0</td>\n",
       "      <td>Real Bed</td>\n",
       "      <td>85.0</td>\n",
       "    </tr>\n",
       "    <tr>\n",
       "      <th>22964</th>\n",
       "      <td>18766792</td>\n",
       "      <td>Luxembourg</td>\n",
       "      <td>Boutique hotel</td>\n",
       "      <td>Private room</td>\n",
       "      <td>16</td>\n",
       "      <td>50.0</td>\n",
       "      <td>50.0</td>\n",
       "      <td>17.0</td>\n",
       "      <td>Real Bed</td>\n",
       "      <td>85.0</td>\n",
       "    </tr>\n",
       "    <tr>\n",
       "      <th>24788</th>\n",
       "      <td>19819352</td>\n",
       "      <td>Luxembourg</td>\n",
       "      <td>Boutique hotel</td>\n",
       "      <td>Private room</td>\n",
       "      <td>16</td>\n",
       "      <td>50.0</td>\n",
       "      <td>50.0</td>\n",
       "      <td>20.0</td>\n",
       "      <td>Real Bed</td>\n",
       "      <td>85.0</td>\n",
       "    </tr>\n",
       "    <tr>\n",
       "      <th>25798</th>\n",
       "      <td>20433587</td>\n",
       "      <td>Luxembourg</td>\n",
       "      <td>Boutique hotel</td>\n",
       "      <td>Private room</td>\n",
       "      <td>16</td>\n",
       "      <td>50.0</td>\n",
       "      <td>50.0</td>\n",
       "      <td>50.0</td>\n",
       "      <td>Real Bed</td>\n",
       "      <td>85.0</td>\n",
       "    </tr>\n",
       "    <tr>\n",
       "      <th>26048</th>\n",
       "      <td>20691340</td>\n",
       "      <td>Luxembourg</td>\n",
       "      <td>Boutique hotel</td>\n",
       "      <td>Private room</td>\n",
       "      <td>16</td>\n",
       "      <td>50.0</td>\n",
       "      <td>50.0</td>\n",
       "      <td>50.0</td>\n",
       "      <td>Real Bed</td>\n",
       "      <td>85.0</td>\n",
       "    </tr>\n",
       "    <tr>\n",
       "      <th>26108</th>\n",
       "      <td>20747725</td>\n",
       "      <td>Luxembourg</td>\n",
       "      <td>Boutique hotel</td>\n",
       "      <td>Private room</td>\n",
       "      <td>16</td>\n",
       "      <td>50.0</td>\n",
       "      <td>50.0</td>\n",
       "      <td>50.0</td>\n",
       "      <td>Real Bed</td>\n",
       "      <td>85.0</td>\n",
       "    </tr>\n",
       "    <tr>\n",
       "      <th>26121</th>\n",
       "      <td>20768013</td>\n",
       "      <td>Luxembourg</td>\n",
       "      <td>Boutique hotel</td>\n",
       "      <td>Private room</td>\n",
       "      <td>16</td>\n",
       "      <td>50.0</td>\n",
       "      <td>50.0</td>\n",
       "      <td>50.0</td>\n",
       "      <td>Real Bed</td>\n",
       "      <td>85.0</td>\n",
       "    </tr>\n",
       "  </tbody>\n",
       "</table>\n",
       "</div>"
      ],
      "text/plain": [
       "             id neighbourhood_cleansed   property_type     room_type  \\\n",
       "12066   8876983             Luxembourg  Boutique hotel  Private room   \n",
       "22964  18766792             Luxembourg  Boutique hotel  Private room   \n",
       "24788  19819352             Luxembourg  Boutique hotel  Private room   \n",
       "25798  20433587             Luxembourg  Boutique hotel  Private room   \n",
       "26048  20691340             Luxembourg  Boutique hotel  Private room   \n",
       "26108  20747725             Luxembourg  Boutique hotel  Private room   \n",
       "26121  20768013             Luxembourg  Boutique hotel  Private room   \n",
       "\n",
       "       accommodates  bathrooms  bedrooms  beds  bed_type  Price  \n",
       "12066            16       50.0      50.0  16.0  Real Bed   85.0  \n",
       "22964            16       50.0      50.0  17.0  Real Bed   85.0  \n",
       "24788            16       50.0      50.0  20.0  Real Bed   85.0  \n",
       "25798            16       50.0      50.0  50.0  Real Bed   85.0  \n",
       "26048            16       50.0      50.0  50.0  Real Bed   85.0  \n",
       "26108            16       50.0      50.0  50.0  Real Bed   85.0  \n",
       "26121            16       50.0      50.0  50.0  Real Bed   85.0  "
      ]
     },
     "execution_count": 26,
     "metadata": {},
     "output_type": "execute_result"
    }
   ],
   "source": [
    "db[fltr]"
   ]
  },
  {
   "cell_type": "markdown",
   "metadata": {},
   "source": [
    "* Concatenated queries"
   ]
  },
  {
   "cell_type": "code",
   "execution_count": 27,
   "metadata": {},
   "outputs": [
    {
     "data": {
      "text/html": [
       "<div>\n",
       "<style scoped>\n",
       "    .dataframe tbody tr th:only-of-type {\n",
       "        vertical-align: middle;\n",
       "    }\n",
       "\n",
       "    .dataframe tbody tr th {\n",
       "        vertical-align: top;\n",
       "    }\n",
       "\n",
       "    .dataframe thead th {\n",
       "        text-align: right;\n",
       "    }\n",
       "</style>\n",
       "<table border=\"1\" class=\"dataframe\">\n",
       "  <thead>\n",
       "    <tr style=\"text-align: right;\">\n",
       "      <th></th>\n",
       "      <th>id</th>\n",
       "      <th>neighbourhood_cleansed</th>\n",
       "      <th>property_type</th>\n",
       "      <th>room_type</th>\n",
       "      <th>accommodates</th>\n",
       "      <th>bathrooms</th>\n",
       "      <th>bedrooms</th>\n",
       "      <th>beds</th>\n",
       "      <th>bed_type</th>\n",
       "      <th>Price</th>\n",
       "    </tr>\n",
       "  </thead>\n",
       "  <tbody>\n",
       "    <tr>\n",
       "      <th>12066</th>\n",
       "      <td>8876983</td>\n",
       "      <td>Luxembourg</td>\n",
       "      <td>Boutique hotel</td>\n",
       "      <td>Private room</td>\n",
       "      <td>16</td>\n",
       "      <td>50.0</td>\n",
       "      <td>50.0</td>\n",
       "      <td>16.0</td>\n",
       "      <td>Real Bed</td>\n",
       "      <td>85.0</td>\n",
       "    </tr>\n",
       "    <tr>\n",
       "      <th>22964</th>\n",
       "      <td>18766792</td>\n",
       "      <td>Luxembourg</td>\n",
       "      <td>Boutique hotel</td>\n",
       "      <td>Private room</td>\n",
       "      <td>16</td>\n",
       "      <td>50.0</td>\n",
       "      <td>50.0</td>\n",
       "      <td>17.0</td>\n",
       "      <td>Real Bed</td>\n",
       "      <td>85.0</td>\n",
       "    </tr>\n",
       "    <tr>\n",
       "      <th>24788</th>\n",
       "      <td>19819352</td>\n",
       "      <td>Luxembourg</td>\n",
       "      <td>Boutique hotel</td>\n",
       "      <td>Private room</td>\n",
       "      <td>16</td>\n",
       "      <td>50.0</td>\n",
       "      <td>50.0</td>\n",
       "      <td>20.0</td>\n",
       "      <td>Real Bed</td>\n",
       "      <td>85.0</td>\n",
       "    </tr>\n",
       "    <tr>\n",
       "      <th>25798</th>\n",
       "      <td>20433587</td>\n",
       "      <td>Luxembourg</td>\n",
       "      <td>Boutique hotel</td>\n",
       "      <td>Private room</td>\n",
       "      <td>16</td>\n",
       "      <td>50.0</td>\n",
       "      <td>50.0</td>\n",
       "      <td>50.0</td>\n",
       "      <td>Real Bed</td>\n",
       "      <td>85.0</td>\n",
       "    </tr>\n",
       "    <tr>\n",
       "      <th>26048</th>\n",
       "      <td>20691340</td>\n",
       "      <td>Luxembourg</td>\n",
       "      <td>Boutique hotel</td>\n",
       "      <td>Private room</td>\n",
       "      <td>16</td>\n",
       "      <td>50.0</td>\n",
       "      <td>50.0</td>\n",
       "      <td>50.0</td>\n",
       "      <td>Real Bed</td>\n",
       "      <td>85.0</td>\n",
       "    </tr>\n",
       "    <tr>\n",
       "      <th>26108</th>\n",
       "      <td>20747725</td>\n",
       "      <td>Luxembourg</td>\n",
       "      <td>Boutique hotel</td>\n",
       "      <td>Private room</td>\n",
       "      <td>16</td>\n",
       "      <td>50.0</td>\n",
       "      <td>50.0</td>\n",
       "      <td>50.0</td>\n",
       "      <td>Real Bed</td>\n",
       "      <td>85.0</td>\n",
       "    </tr>\n",
       "    <tr>\n",
       "      <th>26121</th>\n",
       "      <td>20768013</td>\n",
       "      <td>Luxembourg</td>\n",
       "      <td>Boutique hotel</td>\n",
       "      <td>Private room</td>\n",
       "      <td>16</td>\n",
       "      <td>50.0</td>\n",
       "      <td>50.0</td>\n",
       "      <td>50.0</td>\n",
       "      <td>Real Bed</td>\n",
       "      <td>85.0</td>\n",
       "    </tr>\n",
       "  </tbody>\n",
       "</table>\n",
       "</div>"
      ],
      "text/plain": [
       "             id neighbourhood_cleansed   property_type     room_type  \\\n",
       "12066   8876983             Luxembourg  Boutique hotel  Private room   \n",
       "22964  18766792             Luxembourg  Boutique hotel  Private room   \n",
       "24788  19819352             Luxembourg  Boutique hotel  Private room   \n",
       "25798  20433587             Luxembourg  Boutique hotel  Private room   \n",
       "26048  20691340             Luxembourg  Boutique hotel  Private room   \n",
       "26108  20747725             Luxembourg  Boutique hotel  Private room   \n",
       "26121  20768013             Luxembourg  Boutique hotel  Private room   \n",
       "\n",
       "       accommodates  bathrooms  bedrooms  beds  bed_type  Price  \n",
       "12066            16       50.0      50.0  16.0  Real Bed   85.0  \n",
       "22964            16       50.0      50.0  17.0  Real Bed   85.0  \n",
       "24788            16       50.0      50.0  20.0  Real Bed   85.0  \n",
       "25798            16       50.0      50.0  50.0  Real Bed   85.0  \n",
       "26048            16       50.0      50.0  50.0  Real Bed   85.0  \n",
       "26108            16       50.0      50.0  50.0  Real Bed   85.0  \n",
       "26121            16       50.0      50.0  50.0  Real Bed   85.0  "
      ]
     },
     "execution_count": 27,
     "metadata": {},
     "output_type": "execute_result"
    }
   ],
   "source": [
    "db.loc[(db[\"Price\"] < 100) & \\\n",
    "       (db[\"bathrooms\"] >= 8),\n",
    "       :]"
   ]
  },
  {
   "cell_type": "code",
   "execution_count": 28,
   "metadata": {},
   "outputs": [
    {
     "data": {
      "text/html": [
       "<div>\n",
       "<style scoped>\n",
       "    .dataframe tbody tr th:only-of-type {\n",
       "        vertical-align: middle;\n",
       "    }\n",
       "\n",
       "    .dataframe tbody tr th {\n",
       "        vertical-align: top;\n",
       "    }\n",
       "\n",
       "    .dataframe thead th {\n",
       "        text-align: right;\n",
       "    }\n",
       "</style>\n",
       "<table border=\"1\" class=\"dataframe\">\n",
       "  <thead>\n",
       "    <tr style=\"text-align: right;\">\n",
       "      <th></th>\n",
       "      <th>id</th>\n",
       "      <th>neighbourhood_cleansed</th>\n",
       "      <th>property_type</th>\n",
       "      <th>room_type</th>\n",
       "      <th>accommodates</th>\n",
       "      <th>bathrooms</th>\n",
       "      <th>bedrooms</th>\n",
       "      <th>beds</th>\n",
       "      <th>bed_type</th>\n",
       "      <th>Price</th>\n",
       "    </tr>\n",
       "  </thead>\n",
       "  <tbody>\n",
       "    <tr>\n",
       "      <th>8149</th>\n",
       "      <td>6088687</td>\n",
       "      <td>Temple</td>\n",
       "      <td>Apartment</td>\n",
       "      <td>Entire home/apt</td>\n",
       "      <td>2</td>\n",
       "      <td>1.0</td>\n",
       "      <td>1.0</td>\n",
       "      <td>1.0</td>\n",
       "      <td>Real Bed</td>\n",
       "      <td>8500.0</td>\n",
       "    </tr>\n",
       "    <tr>\n",
       "      <th>10113</th>\n",
       "      <td>7225849</td>\n",
       "      <td>Buttes-Montmartre</td>\n",
       "      <td>Apartment</td>\n",
       "      <td>Entire home/apt</td>\n",
       "      <td>8</td>\n",
       "      <td>2.0</td>\n",
       "      <td>2.0</td>\n",
       "      <td>5.0</td>\n",
       "      <td>Real Bed</td>\n",
       "      <td>9379.0</td>\n",
       "    </tr>\n",
       "    <tr>\n",
       "      <th>11286</th>\n",
       "      <td>8093890</td>\n",
       "      <td>Passy</td>\n",
       "      <td>Apartment</td>\n",
       "      <td>Entire home/apt</td>\n",
       "      <td>3</td>\n",
       "      <td>1.0</td>\n",
       "      <td>2.0</td>\n",
       "      <td>2.0</td>\n",
       "      <td>Real Bed</td>\n",
       "      <td>8721.0</td>\n",
       "    </tr>\n",
       "    <tr>\n",
       "      <th>25106</th>\n",
       "      <td>19974916</td>\n",
       "      <td>Buttes-Montmartre</td>\n",
       "      <td>Condominium</td>\n",
       "      <td>Entire home/apt</td>\n",
       "      <td>4</td>\n",
       "      <td>1.0</td>\n",
       "      <td>1.0</td>\n",
       "      <td>2.0</td>\n",
       "      <td>Real Bed</td>\n",
       "      <td>0.0</td>\n",
       "    </tr>\n",
       "    <tr>\n",
       "      <th>25558</th>\n",
       "      <td>20219162</td>\n",
       "      <td>Buttes-Chaumont</td>\n",
       "      <td>Apartment</td>\n",
       "      <td>Entire home/apt</td>\n",
       "      <td>1</td>\n",
       "      <td>1.0</td>\n",
       "      <td>0.0</td>\n",
       "      <td>1.0</td>\n",
       "      <td>Real Bed</td>\n",
       "      <td>0.0</td>\n",
       "    </tr>\n",
       "    <tr>\n",
       "      <th>25676</th>\n",
       "      <td>20291987</td>\n",
       "      <td>Passy</td>\n",
       "      <td>Apartment</td>\n",
       "      <td>Entire home/apt</td>\n",
       "      <td>3</td>\n",
       "      <td>1.0</td>\n",
       "      <td>0.0</td>\n",
       "      <td>2.0</td>\n",
       "      <td>Real Bed</td>\n",
       "      <td>0.0</td>\n",
       "    </tr>\n",
       "    <tr>\n",
       "      <th>25697</th>\n",
       "      <td>20313940</td>\n",
       "      <td>Temple</td>\n",
       "      <td>Apartment</td>\n",
       "      <td>Entire home/apt</td>\n",
       "      <td>2</td>\n",
       "      <td>1.0</td>\n",
       "      <td>0.0</td>\n",
       "      <td>1.0</td>\n",
       "      <td>Real Bed</td>\n",
       "      <td>0.0</td>\n",
       "    </tr>\n",
       "    <tr>\n",
       "      <th>26899</th>\n",
       "      <td>21422028</td>\n",
       "      <td>Popincourt</td>\n",
       "      <td>Apartment</td>\n",
       "      <td>Entire home/apt</td>\n",
       "      <td>3</td>\n",
       "      <td>2.0</td>\n",
       "      <td>2.0</td>\n",
       "      <td>3.0</td>\n",
       "      <td>Real Bed</td>\n",
       "      <td>0.0</td>\n",
       "    </tr>\n",
       "    <tr>\n",
       "      <th>32190</th>\n",
       "      <td>25448670</td>\n",
       "      <td>Vaugirard</td>\n",
       "      <td>Apartment</td>\n",
       "      <td>Entire home/apt</td>\n",
       "      <td>1</td>\n",
       "      <td>1.0</td>\n",
       "      <td>0.0</td>\n",
       "      <td>1.0</td>\n",
       "      <td>Real Bed</td>\n",
       "      <td>8576.0</td>\n",
       "    </tr>\n",
       "    <tr>\n",
       "      <th>35291</th>\n",
       "      <td>27608896</td>\n",
       "      <td>Observatoire</td>\n",
       "      <td>Apartment</td>\n",
       "      <td>Private room</td>\n",
       "      <td>1</td>\n",
       "      <td>1.0</td>\n",
       "      <td>0.0</td>\n",
       "      <td>1.0</td>\n",
       "      <td>Real Bed</td>\n",
       "      <td>9059.0</td>\n",
       "    </tr>\n",
       "    <tr>\n",
       "      <th>43961</th>\n",
       "      <td>34380017</td>\n",
       "      <td>Bourse</td>\n",
       "      <td>Serviced apartment</td>\n",
       "      <td>Hotel room</td>\n",
       "      <td>8</td>\n",
       "      <td>2.5</td>\n",
       "      <td>3.0</td>\n",
       "      <td>4.0</td>\n",
       "      <td>Real Bed</td>\n",
       "      <td>5150.0</td>\n",
       "    </tr>\n",
       "    <tr>\n",
       "      <th>46767</th>\n",
       "      <td>36019554</td>\n",
       "      <td>Louvre</td>\n",
       "      <td>Serviced apartment</td>\n",
       "      <td>Hotel room</td>\n",
       "      <td>8</td>\n",
       "      <td>2.5</td>\n",
       "      <td>2.0</td>\n",
       "      <td>4.0</td>\n",
       "      <td>Real Bed</td>\n",
       "      <td>8000.0</td>\n",
       "    </tr>\n",
       "    <tr>\n",
       "      <th>47574</th>\n",
       "      <td>36402651</td>\n",
       "      <td>Batignolles-Monceau</td>\n",
       "      <td>House</td>\n",
       "      <td>Entire home/apt</td>\n",
       "      <td>12</td>\n",
       "      <td>3.0</td>\n",
       "      <td>4.0</td>\n",
       "      <td>5.0</td>\n",
       "      <td>Real Bed</td>\n",
       "      <td>10000.0</td>\n",
       "    </tr>\n",
       "  </tbody>\n",
       "</table>\n",
       "</div>"
      ],
      "text/plain": [
       "             id neighbourhood_cleansed       property_type        room_type  \\\n",
       "8149    6088687                 Temple           Apartment  Entire home/apt   \n",
       "10113   7225849      Buttes-Montmartre           Apartment  Entire home/apt   \n",
       "11286   8093890                  Passy           Apartment  Entire home/apt   \n",
       "25106  19974916      Buttes-Montmartre         Condominium  Entire home/apt   \n",
       "25558  20219162        Buttes-Chaumont           Apartment  Entire home/apt   \n",
       "25676  20291987                  Passy           Apartment  Entire home/apt   \n",
       "25697  20313940                 Temple           Apartment  Entire home/apt   \n",
       "26899  21422028             Popincourt           Apartment  Entire home/apt   \n",
       "32190  25448670              Vaugirard           Apartment  Entire home/apt   \n",
       "35291  27608896           Observatoire           Apartment     Private room   \n",
       "43961  34380017                 Bourse  Serviced apartment       Hotel room   \n",
       "46767  36019554                 Louvre  Serviced apartment       Hotel room   \n",
       "47574  36402651    Batignolles-Monceau               House  Entire home/apt   \n",
       "\n",
       "       accommodates  bathrooms  bedrooms  beds  bed_type    Price  \n",
       "8149              2        1.0       1.0   1.0  Real Bed   8500.0  \n",
       "10113             8        2.0       2.0   5.0  Real Bed   9379.0  \n",
       "11286             3        1.0       2.0   2.0  Real Bed   8721.0  \n",
       "25106             4        1.0       1.0   2.0  Real Bed      0.0  \n",
       "25558             1        1.0       0.0   1.0  Real Bed      0.0  \n",
       "25676             3        1.0       0.0   2.0  Real Bed      0.0  \n",
       "25697             2        1.0       0.0   1.0  Real Bed      0.0  \n",
       "26899             3        2.0       2.0   3.0  Real Bed      0.0  \n",
       "32190             1        1.0       0.0   1.0  Real Bed   8576.0  \n",
       "35291             1        1.0       0.0   1.0  Real Bed   9059.0  \n",
       "43961             8        2.5       3.0   4.0  Real Bed   5150.0  \n",
       "46767             8        2.5       2.0   4.0  Real Bed   8000.0  \n",
       "47574            12        3.0       4.0   5.0  Real Bed  10000.0  "
      ]
     },
     "execution_count": 28,
     "metadata": {},
     "output_type": "execute_result"
    }
   ],
   "source": [
    "db.loc[(db[\"Price\"] < 5) | \\\n",
    "       (db[\"Price\"] > 5000),\n",
    "       :]"
   ]
  },
  {
   "cell_type": "markdown",
   "metadata": {},
   "source": [
    "- Using `query`"
   ]
  },
  {
   "cell_type": "code",
   "execution_count": 29,
   "metadata": {},
   "outputs": [
    {
     "data": {
      "text/html": [
       "<div>\n",
       "<style scoped>\n",
       "    .dataframe tbody tr th:only-of-type {\n",
       "        vertical-align: middle;\n",
       "    }\n",
       "\n",
       "    .dataframe tbody tr th {\n",
       "        vertical-align: top;\n",
       "    }\n",
       "\n",
       "    .dataframe thead th {\n",
       "        text-align: right;\n",
       "    }\n",
       "</style>\n",
       "<table border=\"1\" class=\"dataframe\">\n",
       "  <thead>\n",
       "    <tr style=\"text-align: right;\">\n",
       "      <th></th>\n",
       "      <th>neighbourhood_cleansed</th>\n",
       "      <th>Price</th>\n",
       "    </tr>\n",
       "  </thead>\n",
       "  <tbody>\n",
       "    <tr>\n",
       "      <th>0</th>\n",
       "      <td>Observatoire</td>\n",
       "      <td>60.0</td>\n",
       "    </tr>\n",
       "    <tr>\n",
       "      <th>47</th>\n",
       "      <td>Observatoire</td>\n",
       "      <td>90.0</td>\n",
       "    </tr>\n",
       "    <tr>\n",
       "      <th>52</th>\n",
       "      <td>Observatoire</td>\n",
       "      <td>150.0</td>\n",
       "    </tr>\n",
       "    <tr>\n",
       "      <th>104</th>\n",
       "      <td>Observatoire</td>\n",
       "      <td>84.0</td>\n",
       "    </tr>\n",
       "    <tr>\n",
       "      <th>144</th>\n",
       "      <td>Observatoire</td>\n",
       "      <td>140.0</td>\n",
       "    </tr>\n",
       "  </tbody>\n",
       "</table>\n",
       "</div>"
      ],
      "text/plain": [
       "    neighbourhood_cleansed  Price\n",
       "0             Observatoire   60.0\n",
       "47            Observatoire   90.0\n",
       "52            Observatoire  150.0\n",
       "104           Observatoire   84.0\n",
       "144           Observatoire  140.0"
      ]
     },
     "execution_count": 29,
     "metadata": {},
     "output_type": "execute_result"
    }
   ],
   "source": [
    "db.query(\"neighbourhood_cleansed == 'Observatoire'\")\\\n",
    "  [[\"neighbourhood_cleansed\", \"Price\"]]\\\n",
    "  .head()"
   ]
  },
  {
   "cell_type": "code",
   "execution_count": 30,
   "metadata": {},
   "outputs": [
    {
     "data": {
      "text/html": [
       "<div>\n",
       "<style scoped>\n",
       "    .dataframe tbody tr th:only-of-type {\n",
       "        vertical-align: middle;\n",
       "    }\n",
       "\n",
       "    .dataframe tbody tr th {\n",
       "        vertical-align: top;\n",
       "    }\n",
       "\n",
       "    .dataframe thead th {\n",
       "        text-align: right;\n",
       "    }\n",
       "</style>\n",
       "<table border=\"1\" class=\"dataframe\">\n",
       "  <thead>\n",
       "    <tr style=\"text-align: right;\">\n",
       "      <th></th>\n",
       "      <th>id</th>\n",
       "      <th>neighbourhood_cleansed</th>\n",
       "    </tr>\n",
       "  </thead>\n",
       "  <tbody>\n",
       "    <tr>\n",
       "      <th>0</th>\n",
       "      <td>3109</td>\n",
       "      <td>Observatoire</td>\n",
       "    </tr>\n",
       "    <tr>\n",
       "      <th>4</th>\n",
       "      <td>9952</td>\n",
       "      <td>Popincourt</td>\n",
       "    </tr>\n",
       "    <tr>\n",
       "      <th>5</th>\n",
       "      <td>10710</td>\n",
       "      <td>Élysée</td>\n",
       "    </tr>\n",
       "    <tr>\n",
       "      <th>6</th>\n",
       "      <td>11170</td>\n",
       "      <td>Panthéon</td>\n",
       "    </tr>\n",
       "    <tr>\n",
       "      <th>10</th>\n",
       "      <td>11848</td>\n",
       "      <td>Popincourt</td>\n",
       "    </tr>\n",
       "  </tbody>\n",
       "</table>\n",
       "</div>"
      ],
      "text/plain": [
       "       id neighbourhood_cleansed\n",
       "0    3109           Observatoire\n",
       "4    9952             Popincourt\n",
       "5   10710                 Élysée\n",
       "6   11170               Panthéon\n",
       "10  11848             Popincourt"
      ]
     },
     "execution_count": 30,
     "metadata": {},
     "output_type": "execute_result"
    }
   ],
   "source": [
    "db.query(\"Price < 100\")\\\n",
    "  [[\"id\", \"neighbourhood_cleansed\"]]\\\n",
    "  .head()"
   ]
  },
  {
   "cell_type": "code",
   "execution_count": 31,
   "metadata": {},
   "outputs": [
    {
     "data": {
      "text/html": [
       "<div>\n",
       "<style scoped>\n",
       "    .dataframe tbody tr th:only-of-type {\n",
       "        vertical-align: middle;\n",
       "    }\n",
       "\n",
       "    .dataframe tbody tr th {\n",
       "        vertical-align: top;\n",
       "    }\n",
       "\n",
       "    .dataframe thead th {\n",
       "        text-align: right;\n",
       "    }\n",
       "</style>\n",
       "<table border=\"1\" class=\"dataframe\">\n",
       "  <thead>\n",
       "    <tr style=\"text-align: right;\">\n",
       "      <th></th>\n",
       "      <th>id</th>\n",
       "      <th>neighbourhood_cleansed</th>\n",
       "      <th>property_type</th>\n",
       "      <th>room_type</th>\n",
       "      <th>accommodates</th>\n",
       "      <th>bathrooms</th>\n",
       "      <th>bedrooms</th>\n",
       "      <th>beds</th>\n",
       "      <th>bed_type</th>\n",
       "      <th>Price</th>\n",
       "    </tr>\n",
       "  </thead>\n",
       "  <tbody>\n",
       "    <tr>\n",
       "      <th>12066</th>\n",
       "      <td>8876983</td>\n",
       "      <td>Luxembourg</td>\n",
       "      <td>Boutique hotel</td>\n",
       "      <td>Private room</td>\n",
       "      <td>16</td>\n",
       "      <td>50.0</td>\n",
       "      <td>50.0</td>\n",
       "      <td>16.0</td>\n",
       "      <td>Real Bed</td>\n",
       "      <td>85.0</td>\n",
       "    </tr>\n",
       "    <tr>\n",
       "      <th>22964</th>\n",
       "      <td>18766792</td>\n",
       "      <td>Luxembourg</td>\n",
       "      <td>Boutique hotel</td>\n",
       "      <td>Private room</td>\n",
       "      <td>16</td>\n",
       "      <td>50.0</td>\n",
       "      <td>50.0</td>\n",
       "      <td>17.0</td>\n",
       "      <td>Real Bed</td>\n",
       "      <td>85.0</td>\n",
       "    </tr>\n",
       "    <tr>\n",
       "      <th>24788</th>\n",
       "      <td>19819352</td>\n",
       "      <td>Luxembourg</td>\n",
       "      <td>Boutique hotel</td>\n",
       "      <td>Private room</td>\n",
       "      <td>16</td>\n",
       "      <td>50.0</td>\n",
       "      <td>50.0</td>\n",
       "      <td>20.0</td>\n",
       "      <td>Real Bed</td>\n",
       "      <td>85.0</td>\n",
       "    </tr>\n",
       "    <tr>\n",
       "      <th>25798</th>\n",
       "      <td>20433587</td>\n",
       "      <td>Luxembourg</td>\n",
       "      <td>Boutique hotel</td>\n",
       "      <td>Private room</td>\n",
       "      <td>16</td>\n",
       "      <td>50.0</td>\n",
       "      <td>50.0</td>\n",
       "      <td>50.0</td>\n",
       "      <td>Real Bed</td>\n",
       "      <td>85.0</td>\n",
       "    </tr>\n",
       "    <tr>\n",
       "      <th>26048</th>\n",
       "      <td>20691340</td>\n",
       "      <td>Luxembourg</td>\n",
       "      <td>Boutique hotel</td>\n",
       "      <td>Private room</td>\n",
       "      <td>16</td>\n",
       "      <td>50.0</td>\n",
       "      <td>50.0</td>\n",
       "      <td>50.0</td>\n",
       "      <td>Real Bed</td>\n",
       "      <td>85.0</td>\n",
       "    </tr>\n",
       "    <tr>\n",
       "      <th>26108</th>\n",
       "      <td>20747725</td>\n",
       "      <td>Luxembourg</td>\n",
       "      <td>Boutique hotel</td>\n",
       "      <td>Private room</td>\n",
       "      <td>16</td>\n",
       "      <td>50.0</td>\n",
       "      <td>50.0</td>\n",
       "      <td>50.0</td>\n",
       "      <td>Real Bed</td>\n",
       "      <td>85.0</td>\n",
       "    </tr>\n",
       "    <tr>\n",
       "      <th>26121</th>\n",
       "      <td>20768013</td>\n",
       "      <td>Luxembourg</td>\n",
       "      <td>Boutique hotel</td>\n",
       "      <td>Private room</td>\n",
       "      <td>16</td>\n",
       "      <td>50.0</td>\n",
       "      <td>50.0</td>\n",
       "      <td>50.0</td>\n",
       "      <td>Real Bed</td>\n",
       "      <td>85.0</td>\n",
       "    </tr>\n",
       "  </tbody>\n",
       "</table>\n",
       "</div>"
      ],
      "text/plain": [
       "             id neighbourhood_cleansed   property_type     room_type  \\\n",
       "12066   8876983             Luxembourg  Boutique hotel  Private room   \n",
       "22964  18766792             Luxembourg  Boutique hotel  Private room   \n",
       "24788  19819352             Luxembourg  Boutique hotel  Private room   \n",
       "25798  20433587             Luxembourg  Boutique hotel  Private room   \n",
       "26048  20691340             Luxembourg  Boutique hotel  Private room   \n",
       "26108  20747725             Luxembourg  Boutique hotel  Private room   \n",
       "26121  20768013             Luxembourg  Boutique hotel  Private room   \n",
       "\n",
       "       accommodates  bathrooms  bedrooms  beds  bed_type  Price  \n",
       "12066            16       50.0      50.0  16.0  Real Bed   85.0  \n",
       "22964            16       50.0      50.0  17.0  Real Bed   85.0  \n",
       "24788            16       50.0      50.0  20.0  Real Bed   85.0  \n",
       "25798            16       50.0      50.0  50.0  Real Bed   85.0  \n",
       "26048            16       50.0      50.0  50.0  Real Bed   85.0  \n",
       "26108            16       50.0      50.0  50.0  Real Bed   85.0  \n",
       "26121            16       50.0      50.0  50.0  Real Bed   85.0  "
      ]
     },
     "execution_count": 31,
     "metadata": {},
     "output_type": "execute_result"
    }
   ],
   "source": [
    "db.query(\"(Price < 100) & (bathrooms >= 8)\")"
   ]
  },
  {
   "cell_type": "markdown",
   "metadata": {},
   "source": [
    "## Editing tables"
   ]
  },
  {
   "cell_type": "markdown",
   "metadata": {},
   "source": [
    "- Modifying single values"
   ]
  },
  {
   "cell_type": "code",
   "execution_count": 32,
   "metadata": {},
   "outputs": [
    {
     "data": {
      "text/plain": [
       "'Pull-out Sofa'"
      ]
     },
     "execution_count": 32,
     "metadata": {},
     "output_type": "execute_result"
    }
   ],
   "source": [
    "db.loc[1, \"bed_type\"]"
   ]
  },
  {
   "cell_type": "code",
   "execution_count": 33,
   "metadata": {},
   "outputs": [],
   "source": [
    "db.loc[1, \"bed_type\"] = \"Pullout Sofa\""
   ]
  },
  {
   "cell_type": "code",
   "execution_count": 34,
   "metadata": {},
   "outputs": [
    {
     "data": {
      "text/plain": [
       "'Pullout Sofa'"
      ]
     },
     "execution_count": 34,
     "metadata": {},
     "output_type": "execute_result"
    }
   ],
   "source": [
    "db.loc[1, \"bed_type\"]"
   ]
  },
  {
   "cell_type": "markdown",
   "metadata": {},
   "source": [
    "- Modifying blocks of values"
   ]
  },
  {
   "cell_type": "code",
   "execution_count": 35,
   "metadata": {},
   "outputs": [
    {
     "data": {
      "text/plain": [
       "array(['Observatoire', 'Hôtel-de-Ville', 'Opéra', 'Popincourt', 'Élysée',\n",
       "       'Panthéon', 'Entrepôt', 'Buttes-Montmartre', 'Gobelins',\n",
       "       'Buttes-Chaumont', 'Luxembourg', 'Louvre', 'Palais-Bourbon',\n",
       "       'Reuilly', 'Bourse', 'Ménilmontant', 'Vaugirard',\n",
       "       'Batignolles-Monceau', 'Temple', 'Passy'], dtype=object)"
      ]
     },
     "execution_count": 35,
     "metadata": {},
     "output_type": "execute_result"
    }
   ],
   "source": [
    "db.neighbourhood_cleansed.unique()"
   ]
  },
  {
   "cell_type": "code",
   "execution_count": 36,
   "metadata": {},
   "outputs": [],
   "source": [
    "db.loc[db[\"neighbourhood_cleansed\"] == \"Hôtel-de-Ville\",\n",
    "       \"neighbourhood_cleansed\"] = \"City Council\""
   ]
  },
  {
   "cell_type": "code",
   "execution_count": 37,
   "metadata": {},
   "outputs": [
    {
     "data": {
      "text/plain": [
       "array(['Observatoire', 'City Council', 'Opéra', 'Popincourt', 'Élysée',\n",
       "       'Panthéon', 'Entrepôt', 'Buttes-Montmartre', 'Gobelins',\n",
       "       'Buttes-Chaumont', 'Luxembourg', 'Louvre', 'Palais-Bourbon',\n",
       "       'Reuilly', 'Bourse', 'Ménilmontant', 'Vaugirard',\n",
       "       'Batignolles-Monceau', 'Temple', 'Passy'], dtype=object)"
      ]
     },
     "execution_count": 37,
     "metadata": {},
     "output_type": "execute_result"
    }
   ],
   "source": [
    "db.neighbourhood_cleansed.unique()"
   ]
  },
  {
   "cell_type": "markdown",
   "metadata": {},
   "source": [
    "- Creating new columns and rows"
   ]
  },
  {
   "cell_type": "code",
   "execution_count": 38,
   "metadata": {},
   "outputs": [],
   "source": [
    "db[\"more_beds_than_accomodates\"] = db[\"beds\"] > db[\"accommodates\"]"
   ]
  },
  {
   "cell_type": "markdown",
   "metadata": {},
   "source": [
    "---\n",
    "\n",
    "**EXERCISE**\n",
    "\n",
    "- Find how many properties have more than ten bathrooms\n",
    "- Can you rent an AirBnb in Paris with only one bed but three bedrooms?\n",
    "- In which neighbourhoods can you rent an \"Airbed\"?\n",
    "\n",
    "---"
   ]
  },
  {
   "cell_type": "markdown",
   "metadata": {},
   "source": [
    "## Writing Data"
   ]
  },
  {
   "cell_type": "code",
   "execution_count": 39,
   "metadata": {},
   "outputs": [
    {
     "data": {
      "text/plain": [
       "['to_clipboard',\n",
       " 'to_csv',\n",
       " 'to_dict',\n",
       " 'to_excel',\n",
       " 'to_feather',\n",
       " 'to_gbq',\n",
       " 'to_hdf',\n",
       " 'to_html',\n",
       " 'to_json',\n",
       " 'to_latex',\n",
       " 'to_markdown',\n",
       " 'to_numpy',\n",
       " 'to_parquet',\n",
       " 'to_period',\n",
       " 'to_pickle',\n",
       " 'to_records',\n",
       " 'to_sql',\n",
       " 'to_stata',\n",
       " 'to_string',\n",
       " 'to_timestamp',\n",
       " 'to_xarray']"
      ]
     },
     "execution_count": 39,
     "metadata": {},
     "output_type": "execute_result"
    }
   ],
   "source": [
    "[i for i in dir(db) if i[:3]==\"to_\"]"
   ]
  },
  {
   "cell_type": "markdown",
   "metadata": {},
   "source": [
    "## Further Resources"
   ]
  },
  {
   "cell_type": "markdown",
   "metadata": {},
   "source": [
    "Similar introduction:\n",
    "\n",
    "> [http://darribas.org/gds19/content/labs/lab_01.html](http://darribas.org/gds17/content/labs/lab_01.html)\n",
    "\n",
    "More stuff on indices:\n",
    "\n",
    "> [http://pandas.pydata.org/pandas-docs/stable/indexing.html](http://pandas.pydata.org/pandas-docs/stable/indexing.html)\n",
    "\n",
    "And for the pros:\n",
    "\n",
    "> [http://pandas.pydata.org/pandas-docs/stable/advanced.html](http://pandas.pydata.org/pandas-docs/stable/advanced.html)"
   ]
  }
 ],
 "metadata": {
  "kernelspec": {
   "display_name": "Python 3",
   "language": "python",
   "name": "python3"
  },
  "language_info": {
   "codemirror_mode": {
    "name": "ipython",
    "version": 3
   },
   "file_extension": ".py",
   "mimetype": "text/x-python",
   "name": "python",
   "nbconvert_exporter": "python",
   "pygments_lexer": "ipython3",
   "version": "3.8.6"
  }
 },
 "nbformat": 4,
 "nbformat_minor": 4
}
